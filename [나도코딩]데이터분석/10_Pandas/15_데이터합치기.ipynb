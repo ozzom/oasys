{
 "cells": [
  {
   "attachments": {},
   "cell_type": "markdown",
   "metadata": {},
   "source": [
    "### 1. 데이터 프레임 붙이기 : pd.concat()\n",
    "#### pd.concate([df1, df2], axis = 0/1, join = inner/outer) \n",
    "#### axis = 0/1 (종/횡), join = inner/outer(교집합/합집합)"
   ]
  },
  {
   "cell_type": "code",
   "execution_count": 29,
   "metadata": {},
   "outputs": [
    {
     "data": {
      "text/plain": [
       "(        col1       col2\n",
       " 0  18.226055  15.847078\n",
       " 1  10.399188  17.764007\n",
       " 2  14.736480  13.286066,\n",
       "     d   e   h   i\n",
       " 0  11  12  13  14\n",
       " 1  15  16  17  18\n",
       " 2  19  20  21  22\n",
       " 3  23  24  25  26\n",
       " 4  27  28  29  30)"
      ]
     },
     "execution_count": 29,
     "metadata": {},
     "output_type": "execute_result"
    }
   ],
   "source": [
    "import pandas as pd\n",
    "import numpy as np\n",
    "\n",
    "col1= np.random.uniform(10,20,size=3) # 10~20 사이 실수 3개 \n",
    "col2= np.random.uniform(10,20, size=3) \n",
    "\n",
    "sr1= pd.Series(col1,name='col1') #col1을 시리즈로 만들기\n",
    "sr2= pd.Series(col2,name='col2') #col2를 시리즈로 만들기 \n",
    "\n",
    "df1=pd.concat([sr1,sr2], axis=1)\n",
    "df21=pd.concat([sr1,sr2], axis=0)\n",
    "df1, df2"
   ]
  },
  {
   "attachments": {},
   "cell_type": "markdown",
   "metadata": {},
   "source": [
    "### 2. 데이터프레임 병합 : pd.merge()  --> merge()는 columns를 기준으로 병합이 됩니다. \n",
    "#### pd.merge(df1,df2, how='outer') how는 교집합/합집합을 설정하는 것이고 outer는 합집합/ inner는 교집합입니다. how를 입력하지 않으면 default는 inner로 설정되어 교집합으로 설정됩니다"
   ]
  },
  {
   "cell_type": "code",
   "execution_count": 20,
   "metadata": {},
   "outputs": [],
   "source": [
    "import numpy as np\n",
    "import pandas as pd\n",
    "data1 = np.arange(1,21).reshape(4,5)  #4행 5열로 1~20까지의 수를 넣겠다\n",
    "data2 = np.arange(11,31).reshape(5,4)  # 5행 4열로 11~31까지의 수를 넣겠다\n",
    "\n",
    "df1 = pd.DataFrame(data1, columns=list('abcde')) #df1이라는 데이터 프레임에 data1을 넣고 columns설정\n",
    "df2 = pd.DataFrame(data2, columns=list('dehi')) #df2에 위와 같이 설정"
   ]
  },
  {
   "cell_type": "code",
   "execution_count": 24,
   "metadata": {},
   "outputs": [],
   "source": [
    "df3 = pd.merge(df1, df2, how='inner')\n",
    "df4 = pd.merge(df1, df2, how='outer')"
   ]
  },
  {
   "cell_type": "code",
   "execution_count": 25,
   "metadata": {},
   "outputs": [
    {
     "data": {
      "text/plain": [
       "(    a   b   c   d   e   h   i\n",
       " 0  16  17  18  19  20  21  22,\n",
       "       a     b     c   d   e     h     i\n",
       " 0   1.0   2.0   3.0   4   5   NaN   NaN\n",
       " 1   6.0   7.0   8.0   9  10   NaN   NaN\n",
       " 2  11.0  12.0  13.0  14  15   NaN   NaN\n",
       " 3  16.0  17.0  18.0  19  20  21.0  22.0\n",
       " 4   NaN   NaN   NaN  11  12  13.0  14.0\n",
       " 5   NaN   NaN   NaN  15  16  17.0  18.0\n",
       " 6   NaN   NaN   NaN  23  24  25.0  26.0\n",
       " 7   NaN   NaN   NaN  27  28  29.0  30.0)"
      ]
     },
     "execution_count": 25,
     "metadata": {},
     "output_type": "execute_result"
    }
   ],
   "source": [
    "df3, df4"
   ]
  },
  {
   "attachments": {},
   "cell_type": "markdown",
   "metadata": {},
   "source": [
    "### 3. 데이터프레임 병합 join\n",
    "#### join()은 (columns를 기준으로 결합하는 merge()와 반대로) index를 기준으로 겹합하게 됩니다. 또한 결합할 때 merge처럼 default가 교집합인 inner가 됩니다."
   ]
  },
  {
   "cell_type": "code",
   "execution_count": 28,
   "metadata": {},
   "outputs": [
    {
     "data": {
      "text/html": [
       "<div>\n",
       "<style scoped>\n",
       "    .dataframe tbody tr th:only-of-type {\n",
       "        vertical-align: middle;\n",
       "    }\n",
       "\n",
       "    .dataframe tbody tr th {\n",
       "        vertical-align: top;\n",
       "    }\n",
       "\n",
       "    .dataframe thead th {\n",
       "        text-align: right;\n",
       "    }\n",
       "</style>\n",
       "<table border=\"1\" class=\"dataframe\">\n",
       "  <thead>\n",
       "    <tr style=\"text-align: right;\">\n",
       "      <th></th>\n",
       "      <th>a</th>\n",
       "      <th>b</th>\n",
       "      <th>c</th>\n",
       "      <th>d_1</th>\n",
       "      <th>e_1</th>\n",
       "      <th>d_2</th>\n",
       "      <th>e_2</th>\n",
       "      <th>h</th>\n",
       "      <th>i</th>\n",
       "    </tr>\n",
       "  </thead>\n",
       "  <tbody>\n",
       "    <tr>\n",
       "      <th>0</th>\n",
       "      <td>1</td>\n",
       "      <td>2</td>\n",
       "      <td>3</td>\n",
       "      <td>4</td>\n",
       "      <td>5</td>\n",
       "      <td>11</td>\n",
       "      <td>12</td>\n",
       "      <td>13</td>\n",
       "      <td>14</td>\n",
       "    </tr>\n",
       "    <tr>\n",
       "      <th>1</th>\n",
       "      <td>6</td>\n",
       "      <td>7</td>\n",
       "      <td>8</td>\n",
       "      <td>9</td>\n",
       "      <td>10</td>\n",
       "      <td>15</td>\n",
       "      <td>16</td>\n",
       "      <td>17</td>\n",
       "      <td>18</td>\n",
       "    </tr>\n",
       "    <tr>\n",
       "      <th>2</th>\n",
       "      <td>11</td>\n",
       "      <td>12</td>\n",
       "      <td>13</td>\n",
       "      <td>14</td>\n",
       "      <td>15</td>\n",
       "      <td>19</td>\n",
       "      <td>20</td>\n",
       "      <td>21</td>\n",
       "      <td>22</td>\n",
       "    </tr>\n",
       "    <tr>\n",
       "      <th>3</th>\n",
       "      <td>16</td>\n",
       "      <td>17</td>\n",
       "      <td>18</td>\n",
       "      <td>19</td>\n",
       "      <td>20</td>\n",
       "      <td>23</td>\n",
       "      <td>24</td>\n",
       "      <td>25</td>\n",
       "      <td>26</td>\n",
       "    </tr>\n",
       "  </tbody>\n",
       "</table>\n",
       "</div>"
      ],
      "text/plain": [
       "    a   b   c  d_1  e_1  d_2  e_2   h   i\n",
       "0   1   2   3    4    5   11   12  13  14\n",
       "1   6   7   8    9   10   15   16  17  18\n",
       "2  11  12  13   14   15   19   20  21  22\n",
       "3  16  17  18   19   20   23   24  25  26"
      ]
     },
     "execution_count": 28,
     "metadata": {},
     "output_type": "execute_result"
    }
   ],
   "source": [
    "df1.join(df2,lsuffix='_1',rsuffix='_2') # <-- 교집합"
   ]
  },
  {
   "cell_type": "code",
   "execution_count": null,
   "metadata": {},
   "outputs": [],
   "source": []
  }
 ],
 "metadata": {
  "kernelspec": {
   "display_name": "Python 3 (ipykernel)",
   "language": "python",
   "name": "python3"
  },
  "language_info": {
   "codemirror_mode": {
    "name": "ipython",
    "version": 3
   },
   "file_extension": ".py",
   "mimetype": "text/x-python",
   "name": "python",
   "nbconvert_exporter": "python",
   "pygments_lexer": "ipython3",
   "version": "3.9.1"
  },
  "orig_nbformat": 4
 },
 "nbformat": 4,
 "nbformat_minor": 2
}
