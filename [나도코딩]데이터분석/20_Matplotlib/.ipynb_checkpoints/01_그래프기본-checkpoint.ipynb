{
 "cells": [
  {
   "cell_type": "markdown",
   "metadata": {},
   "source": [
    "# Matplotlib\n",
    "### 다양한 형태의 그래프를 통해서 데이터 시각화 할 수 있는 라이브러리"
   ]
  },
  {
   "cell_type": "code",
   "execution_count": 1,
   "metadata": {},
   "outputs": [],
   "source": [
    "import matplotlib.pyplot as plt\n",
    "from random import * "
   ]
  },
  {
   "cell_type": "markdown",
   "metadata": {},
   "source": [
    "# 1. 그래프 기본\n",
    "### X , Y 좌표 값을 이용한 그래프\n"
   ]
  },
  {
   "cell_type": "code",
   "execution_count": 2,
   "metadata": {},
   "outputs": [
    {
     "data": {
      "text/plain": [
       "[<matplotlib.lines.Line2D at 0x1ffadce7190>]"
      ]
     },
     "execution_count": 2,
     "metadata": {},
     "output_type": "execute_result"
    },
    {
     "data": {
      "image/png": "[encoded data removed]",
      "text/plain": [
       "<Figure size 432x288 with 1 Axes>"
      ]
     },
     "metadata": {
      "needs_background": "light"
     },
     "output_type": "display_data"
    }
   ],
   "source": [
    "x = list()\n",
    "y = list() \n",
    "\n",
    "for num in range(-10, 10):\n",
    "    x.append(num)\n",
    "    y.append(num*num+ 3*num)\n",
    "    \n",
    "plt.plot(x, y)\n",
    "# plt.show"
   ]
  },
  {
   "cell_type": "markdown",
   "metadata": {},
   "source": [
    "# 2. Title 설정"
   ]
  },
  {
   "cell_type": "code",
   "execution_count": 3,
   "metadata": {},
   "outputs": [
    {
     "ename": "AttributeError",
     "evalue": "'Text' object has no property 'enconding'",
     "output_type": "error",
     "traceback": [
      "\u001b[1;31m---------------------------------------------------------------------------\u001b[0m",
      "\u001b[1;31mAttributeError\u001b[0m                            Traceback (most recent call last)",
      "\u001b[1;32mc:\\#100.Project\\Workspace\\05_DataAnaylsis\\20_Matplotlib\\01_그래프기본.ipynb 셀 6\u001b[0m in \u001b[0;36m<cell line: 2>\u001b[1;34m()\u001b[0m\n\u001b[0;32m      <a href='vscode-notebook-cell:/c%3A/%23100.Project/Workspace/05_DataAnaylsis/20_Matplotlib/01_%EA%B7%B8%EB%9E%98%ED%94%84%EA%B8%B0%EB%B3%B8.ipynb#W5sZmlsZQ%3D%3D?line=0'>1</a>\u001b[0m plt\u001b[39m.\u001b[39mplot(x, y)\n\u001b[1;32m----> <a href='vscode-notebook-cell:/c%3A/%23100.Project/Workspace/05_DataAnaylsis/20_Matplotlib/01_%EA%B7%B8%EB%9E%98%ED%94%84%EA%B8%B0%EB%B3%B8.ipynb#W5sZmlsZQ%3D%3D?line=1'>2</a>\u001b[0m plt\u001b[39m.\u001b[39;49mtitle(\u001b[39m\"\u001b[39;49m\u001b[39m1차원 그래프\u001b[39;49m\u001b[39m\"\u001b[39;49m, enconding\u001b[39m=\u001b[39;49m\u001b[39m'\u001b[39;49m\u001b[39m'\u001b[39;49m)\n",
      "File \u001b[1;32mc:\\#100.Project\\venv\\lib\\site-packages\\matplotlib\\pyplot.py:3036\u001b[0m, in \u001b[0;36mtitle\u001b[1;34m(label, fontdict, loc, pad, y, **kwargs)\u001b[0m\n\u001b[0;32m   3034\u001b[0m \u001b[39m@_copy_docstring_and_deprecators\u001b[39m(Axes\u001b[39m.\u001b[39mset_title)\n\u001b[0;32m   3035\u001b[0m \u001b[39mdef\u001b[39;00m \u001b[39mtitle\u001b[39m(label, fontdict\u001b[39m=\u001b[39m\u001b[39mNone\u001b[39;00m, loc\u001b[39m=\u001b[39m\u001b[39mNone\u001b[39;00m, pad\u001b[39m=\u001b[39m\u001b[39mNone\u001b[39;00m, \u001b[39m*\u001b[39m, y\u001b[39m=\u001b[39m\u001b[39mNone\u001b[39;00m, \u001b[39m*\u001b[39m\u001b[39m*\u001b[39mkwargs):\n\u001b[1;32m-> 3036\u001b[0m     \u001b[39mreturn\u001b[39;00m gca()\u001b[39m.\u001b[39;49mset_title(\n\u001b[0;32m   3037\u001b[0m         label, fontdict\u001b[39m=\u001b[39;49mfontdict, loc\u001b[39m=\u001b[39;49mloc, pad\u001b[39m=\u001b[39;49mpad, y\u001b[39m=\u001b[39;49my, \u001b[39m*\u001b[39;49m\u001b[39m*\u001b[39;49mkwargs)\n",
      "File \u001b[1;32mc:\\#100.Project\\venv\\lib\\site-packages\\matplotlib\\axes\\_axes.py:169\u001b[0m, in \u001b[0;36mAxes.set_title\u001b[1;34m(self, label, fontdict, loc, pad, y, **kwargs)\u001b[0m\n\u001b[0;32m    167\u001b[0m \u001b[39mif\u001b[39;00m fontdict \u001b[39mis\u001b[39;00m \u001b[39mnot\u001b[39;00m \u001b[39mNone\u001b[39;00m:\n\u001b[0;32m    168\u001b[0m     title\u001b[39m.\u001b[39mupdate(fontdict)\n\u001b[1;32m--> 169\u001b[0m title\u001b[39m.\u001b[39;49mupdate(kwargs)\n\u001b[0;32m    170\u001b[0m \u001b[39mreturn\u001b[39;00m title\n",
      "File \u001b[1;32mc:\\#100.Project\\venv\\lib\\site-packages\\matplotlib\\text.py:172\u001b[0m, in \u001b[0;36mText.update\u001b[1;34m(self, kwargs)\u001b[0m\n\u001b[0;32m    170\u001b[0m \u001b[39m# Update bbox last, as it depends on font properties.\u001b[39;00m\n\u001b[0;32m    171\u001b[0m bbox \u001b[39m=\u001b[39m kwargs\u001b[39m.\u001b[39mpop(\u001b[39m\"\u001b[39m\u001b[39mbbox\u001b[39m\u001b[39m\"\u001b[39m, sentinel)\n\u001b[1;32m--> 172\u001b[0m \u001b[39msuper\u001b[39;49m()\u001b[39m.\u001b[39;49mupdate(kwargs)\n\u001b[0;32m    173\u001b[0m \u001b[39mif\u001b[39;00m bbox \u001b[39mis\u001b[39;00m \u001b[39mnot\u001b[39;00m sentinel:\n\u001b[0;32m    174\u001b[0m     \u001b[39mself\u001b[39m\u001b[39m.\u001b[39mset_bbox(bbox)\n",
      "File \u001b[1;32mc:\\#100.Project\\venv\\lib\\site-packages\\matplotlib\\artist.py:1067\u001b[0m, in \u001b[0;36mArtist.update\u001b[1;34m(self, props)\u001b[0m\n\u001b[0;32m   1065\u001b[0m             func \u001b[39m=\u001b[39m \u001b[39mgetattr\u001b[39m(\u001b[39mself\u001b[39m, \u001b[39mf\u001b[39m\u001b[39m\"\u001b[39m\u001b[39mset_\u001b[39m\u001b[39m{\u001b[39;00mk\u001b[39m}\u001b[39;00m\u001b[39m\"\u001b[39m, \u001b[39mNone\u001b[39;00m)\n\u001b[0;32m   1066\u001b[0m             \u001b[39mif\u001b[39;00m \u001b[39mnot\u001b[39;00m callable(func):\n\u001b[1;32m-> 1067\u001b[0m                 \u001b[39mraise\u001b[39;00m \u001b[39mAttributeError\u001b[39;00m(\u001b[39mf\u001b[39m\u001b[39m\"\u001b[39m\u001b[39m{\u001b[39;00m\u001b[39mtype\u001b[39m(\u001b[39mself\u001b[39m)\u001b[39m.\u001b[39m\u001b[39m__name__\u001b[39m\u001b[39m!r}\u001b[39;00m\u001b[39m object \u001b[39m\u001b[39m\"\u001b[39m\n\u001b[0;32m   1068\u001b[0m                                      \u001b[39mf\u001b[39m\u001b[39m\"\u001b[39m\u001b[39mhas no property \u001b[39m\u001b[39m{\u001b[39;00mk\u001b[39m!r}\u001b[39;00m\u001b[39m\"\u001b[39m)\n\u001b[0;32m   1069\u001b[0m             ret\u001b[39m.\u001b[39mappend(func(v))\n\u001b[0;32m   1070\u001b[0m \u001b[39mif\u001b[39;00m ret:\n",
      "\u001b[1;31mAttributeError\u001b[0m: 'Text' object has no property 'enconding'"
     ]
    },
    {
     "name": "stderr",
     "output_type": "stream",
     "text": [
      "c:\\#100.Project\\venv\\lib\\site-packages\\IPython\\core\\events.py:89: UserWarning: Glyph 52264 (\\N{HANGUL SYLLABLE CA}) missing from current font.\n",
      "  func(*args, **kwargs)\n",
      "c:\\#100.Project\\venv\\lib\\site-packages\\IPython\\core\\events.py:89: UserWarning: Glyph 50896 (\\N{HANGUL SYLLABLE WEON}) missing from current font.\n",
      "  func(*args, **kwargs)\n",
      "c:\\#100.Project\\venv\\lib\\site-packages\\IPython\\core\\events.py:89: UserWarning: Glyph 44536 (\\N{HANGUL SYLLABLE GEU}) missing from current font.\n",
      "  func(*args, **kwargs)\n",
      "c:\\#100.Project\\venv\\lib\\site-packages\\IPython\\core\\events.py:89: UserWarning: Glyph 47000 (\\N{HANGUL SYLLABLE RAE}) missing from current font.\n",
      "  func(*args, **kwargs)\n",
      "c:\\#100.Project\\venv\\lib\\site-packages\\IPython\\core\\events.py:89: UserWarning: Glyph 54532 (\\N{HANGUL SYLLABLE PEU}) missing from current font.\n",
      "  func(*args, **kwargs)\n",
      "c:\\#100.Project\\venv\\lib\\site-packages\\IPython\\core\\pylabtools.py:151: UserWarning: Glyph 52264 (\\N{HANGUL SYLLABLE CA}) missing from current font.\n",
      "  fig.canvas.print_figure(bytes_io, **kw)\n",
      "c:\\#100.Project\\venv\\lib\\site-packages\\IPython\\core\\pylabtools.py:151: UserWarning: Glyph 50896 (\\N{HANGUL SYLLABLE WEON}) missing from current font.\n",
      "  fig.canvas.print_figure(bytes_io, **kw)\n",
      "c:\\#100.Project\\venv\\lib\\site-packages\\IPython\\core\\pylabtools.py:151: UserWarning: Glyph 44536 (\\N{HANGUL SYLLABLE GEU}) missing from current font.\n",
      "  fig.canvas.print_figure(bytes_io, **kw)\n",
      "c:\\#100.Project\\venv\\lib\\site-packages\\IPython\\core\\pylabtools.py:151: UserWarning: Glyph 47000 (\\N{HANGUL SYLLABLE RAE}) missing from current font.\n",
      "  fig.canvas.print_figure(bytes_io, **kw)\n",
      "c:\\#100.Project\\venv\\lib\\site-packages\\IPython\\core\\pylabtools.py:151: UserWarning: Glyph 54532 (\\N{HANGUL SYLLABLE PEU}) missing from current font.\n",
      "  fig.canvas.print_figure(bytes_io, **kw)\n"
     ]
    },
    {
     "data": {
      "image/png": "[encoded data removed]",
      "text/plain": [
       "<Figure size 432x288 with 1 Axes>"
      ]
     },
     "metadata": {
      "needs_background": "light"
     },
     "output_type": "display_data"
    }
   ],
   "source": [
    "plt.plot(x, y)\n",
    "plt.title(\"1차원 그래프\", enconding='')"
   ]
  },
  {
   "cell_type": "markdown",
   "metadata": {},
   "source": [
    "# 3.한글 폰트 설정\n",
    "### 한글 깨짐 방지를 위해서 아래 세줄은 그래프 작업 시, 항상 넣어 주어야 함. "
   ]
  },
  {
   "cell_type": "code",
   "execution_count": 4,
   "metadata": {},
   "outputs": [],
   "source": [
    "import matplotlib\n",
    "matplotlib.rcParams['font.family'] = 'Malgun Gothic'  #Windows\n",
    "# matplotlib.rcParams['font.family'] = 'AppleGothic'  #MasOS\n",
    "matplotlib.rcParams['font.size'] = 15  # 글자 크기\n",
    "matplotlib.rcParams['axes.unicode_minus'] = False   # 한글폰트 사용시, 마이너스 글짜 깨짐 해결 "
   ]
  },
  {
   "cell_type": "code",
   "execution_count": 5,
   "metadata": {},
   "outputs": [
    {
     "data": {
      "text/plain": [
       "['STIXSizeOneSym',\n",
       " 'DejaVu Sans Mono',\n",
       " 'STIXSizeThreeSym',\n",
       " 'DejaVu Sans Mono',\n",
       " 'DejaVu Sans Mono',\n",
       " 'DejaVu Sans Mono',\n",
       " 'cmsy10',\n",
       " 'DejaVu Sans',\n",
       " 'cmmi10',\n",
       " 'STIXSizeTwoSym',\n",
       " 'STIXSizeTwoSym',\n",
       " 'STIXGeneral',\n",
       " 'STIXSizeThreeSym',\n",
       " 'DejaVu Serif Display',\n",
       " 'DejaVu Serif',\n",
       " 'STIXSizeFiveSym',\n",
       " 'STIXGeneral',\n",
       " 'cmr10',\n",
       " 'STIXNonUnicode',\n",
       " 'cmss10',\n",
       " 'STIXNonUnicode',\n",
       " 'DejaVu Sans',\n",
       " 'DejaVu Sans Display',\n",
       " 'STIXNonUnicode',\n",
       " 'cmtt10',\n",
       " 'cmex10',\n",
       " 'DejaVu Serif',\n",
       " 'STIXSizeFourSym',\n",
       " 'STIXSizeOneSym',\n",
       " 'DejaVu Serif',\n",
       " 'cmb10',\n",
       " 'STIXNonUnicode',\n",
       " 'STIXGeneral',\n",
       " 'STIXGeneral',\n",
       " 'STIXSizeFourSym',\n",
       " 'DejaVu Serif',\n",
       " 'DejaVu Sans',\n",
       " 'DejaVu Sans',\n",
       " 'Georgia',\n",
       " 'Leelawadee UI',\n",
       " 'Ebrima',\n",
       " 'Microsoft JhengHei',\n",
       " 'Monotype Corsiva',\n",
       " 'Constantia',\n",
       " 'Bookman Old Style',\n",
       " 'Calibri',\n",
       " 'Book Antiqua',\n",
       " 'Tempus Sans ITC',\n",
       " 'Consolas',\n",
       " 'Cambria',\n",
       " 'Microsoft YaHei',\n",
       " 'Franklin Gothic Medium',\n",
       " 'Magic R',\n",
       " 'Leelawadee UI',\n",
       " 'Sitka Small',\n",
       " 'New Gulim',\n",
       " 'Yet R',\n",
       " 'Myanmar Text',\n",
       " 'Trebuchet MS',\n",
       " 'Calibri',\n",
       " 'Verdana',\n",
       " 'Candara',\n",
       " 'Microsoft PhagsPa',\n",
       " 'Microsoft YaHei',\n",
       " 'Segoe UI Symbol',\n",
       " 'Book Antiqua',\n",
       " 'Segoe Print',\n",
       " 'Trebuchet MS',\n",
       " 'MS Outlook',\n",
       " 'Ink Free',\n",
       " 'MS Reference Sans Serif',\n",
       " 'Microsoft Himalaya',\n",
       " 'Comic Sans MS',\n",
       " 'Franklin Gothic Medium',\n",
       " 'Garamond',\n",
       " 'Corbel',\n",
       " 'HYGothic-Extra',\n",
       " 'Sitka Small',\n",
       " 'Palatino Linotype',\n",
       " 'Arial',\n",
       " 'Consolas',\n",
       " 'Segoe UI',\n",
       " 'Cambria',\n",
       " 'Calibri',\n",
       " 'Mistral',\n",
       " 'Yu Gothic',\n",
       " 'Pristina',\n",
       " 'Constantia',\n",
       " 'Consolas',\n",
       " 'Microsoft New Tai Lue',\n",
       " 'Wingdings',\n",
       " 'Segoe MDL2 Assets',\n",
       " 'Kristen ITC',\n",
       " 'Wingdings 3',\n",
       " 'MoeumT R',\n",
       " 'HYGungSo-Bold',\n",
       " 'Segoe UI',\n",
       " 'Corbel',\n",
       " 'Courier New',\n",
       " 'Microsoft PhagsPa',\n",
       " 'Segoe UI',\n",
       " 'Lucida Console',\n",
       " 'Trebuchet MS',\n",
       " 'HYPost-Light',\n",
       " 'Gabriola',\n",
       " 'MS Reference Specialty',\n",
       " 'Segoe Script',\n",
       " 'Pyunji R',\n",
       " 'Dubai',\n",
       " 'Century Gothic',\n",
       " 'SimSun-ExtB',\n",
       " 'Times New Roman',\n",
       " 'Arial',\n",
       " 'Nirmala UI',\n",
       " 'Calibri',\n",
       " 'HYHeadLine-Medium',\n",
       " 'Segoe Print',\n",
       " 'Headline R',\n",
       " 'Cambria',\n",
       " 'Segoe UI',\n",
       " 'Segoe UI',\n",
       " 'Marlett',\n",
       " 'Gadugi',\n",
       " 'Corbel',\n",
       " 'Segoe Script',\n",
       " 'Microsoft Sans Serif',\n",
       " 'Candara',\n",
       " 'Georgia',\n",
       " 'Dubai',\n",
       " 'Sitka Small',\n",
       " 'Candara',\n",
       " 'Nirmala UI',\n",
       " 'Webdings',\n",
       " 'Yu Gothic',\n",
       " 'Sitka Small',\n",
       " 'Leelawadee UI',\n",
       " 'HYPost-Medium',\n",
       " 'Candara',\n",
       " 'Candara',\n",
       " 'Papyrus',\n",
       " 'Corbel',\n",
       " 'Garamond',\n",
       " 'Segoe UI',\n",
       " 'Microsoft Uighur',\n",
       " 'Mongolian Baiti',\n",
       " 'Tahoma',\n",
       " 'Times New Roman',\n",
       " 'Microsoft JhengHei',\n",
       " 'Times New Roman',\n",
       " 'HYGothic-Medium',\n",
       " 'MV Boli',\n",
       " 'Courier New',\n",
       " 'Gadugi',\n",
       " 'Bookman Old Style',\n",
       " 'Comic Sans MS',\n",
       " 'Arial',\n",
       " 'Consolas',\n",
       " 'Constantia',\n",
       " 'Segoe UI',\n",
       " 'Microsoft Yi Baiti',\n",
       " 'HYMyeongJo-Extra',\n",
       " 'Century Gothic',\n",
       " 'Segoe UI',\n",
       " 'Yu Gothic',\n",
       " 'MS Gothic',\n",
       " 'Century Gothic',\n",
       " 'Bahnschrift',\n",
       " 'Leelawadee',\n",
       " 'Microsoft JhengHei',\n",
       " 'Malgun Gothic',\n",
       " 'Javanese Text',\n",
       " 'Times New Roman',\n",
       " 'Arial',\n",
       " 'Candara',\n",
       " 'Lucida Sans Unicode',\n",
       " 'Malgun Gothic',\n",
       " 'Nirmala UI',\n",
       " 'Calibri',\n",
       " 'HYGraphic-Medium',\n",
       " 'Calibri',\n",
       " 'French Script MT',\n",
       " 'Palatino Linotype',\n",
       " 'Microsoft Uighur',\n",
       " 'Arial',\n",
       " 'Bookman Old Style',\n",
       " 'Sylfaen',\n",
       " 'Segoe UI',\n",
       " 'Verdana',\n",
       " 'Lucida Handwriting',\n",
       " 'Georgia',\n",
       " 'SimSun',\n",
       " 'Microsoft YaHei',\n",
       " 'Courier New',\n",
       " 'Gulim',\n",
       " 'Book Antiqua',\n",
       " 'Batang',\n",
       " 'Garamond',\n",
       " 'Georgia',\n",
       " 'Juice ITC',\n",
       " 'Arial',\n",
       " 'Constantia',\n",
       " 'Impact',\n",
       " 'Century',\n",
       " 'Courier New',\n",
       " 'Corbel',\n",
       " 'Bookshelf Symbol 7',\n",
       " 'Leelawadee',\n",
       " 'Ami R',\n",
       " 'Myanmar Text',\n",
       " 'Microsoft Tai Le',\n",
       " 'Book Antiqua',\n",
       " 'Ebrima',\n",
       " 'HYSinMyeongJo-Medium',\n",
       " 'Wingdings 2',\n",
       " 'Dubai',\n",
       " 'Segoe UI Emoji',\n",
       " 'HYShortSamul-Medium',\n",
       " 'HoloLens MDL2 Assets',\n",
       " 'MingLiU-ExtB',\n",
       " 'Symbol',\n",
       " 'Microsoft Tai Le',\n",
       " 'Segoe UI',\n",
       " 'Verdana',\n",
       " 'Comic Sans MS',\n",
       " 'Yu Gothic',\n",
       " 'Century Gothic',\n",
       " 'Verdana',\n",
       " 'Cambria',\n",
       " 'Arial',\n",
       " 'Palatino Linotype',\n",
       " 'Malgun Gothic',\n",
       " 'Palatino Linotype',\n",
       " 'Segoe UI',\n",
       " 'Freestyle Script',\n",
       " 'Dubai',\n",
       " 'Bradley Hand ITC',\n",
       " 'Segoe UI',\n",
       " 'Bookman Old Style',\n",
       " 'Trebuchet MS',\n",
       " 'Segoe UI Historic',\n",
       " 'Tahoma',\n",
       " 'Arial',\n",
       " 'Arial',\n",
       " 'Microsoft New Tai Lue',\n",
       " 'MT Extra',\n",
       " 'Comic Sans MS',\n",
       " 'HYPMokGak-Bold',\n",
       " 'Corbel']"
      ]
     },
     "execution_count": 5,
     "metadata": {},
     "output_type": "execute_result"
    }
   ],
   "source": [
    "import matplotlib.font_manager as fm \n",
    "fm.fontManager.ttflist   # 사용가능한 폰트 확인 \n",
    "[f.name for f in fm.fontManager.ttflist]   # 폰트 이름만 확인 \n"
   ]
  },
  {
   "cell_type": "code",
   "execution_count": 6,
   "metadata": {},
   "outputs": [
    {
     "data": {
      "text/plain": [
       "Text(0.5, 1.0, '2차원 그래프')"
      ]
     },
     "execution_count": 6,
     "metadata": {},
     "output_type": "execute_result"
    },
    {
     "data": {
      "image/png": "[encoded data removed]",
      "text/plain": [
       "<Figure size 432x288 with 1 Axes>"
      ]
     },
     "metadata": {
      "needs_background": "light"
     },
     "output_type": "display_data"
    }
   ],
   "source": [
    "plt.plot(x, y)\n",
    "plt.title(\"2차원 그래프\")"
   ]
  },
  {
   "cell_type": "code",
   "execution_count": null,
   "metadata": {},
   "outputs": [],
   "source": []
  },
  {
   "cell_type": "code",
   "execution_count": null,
   "metadata": {},
   "outputs": [],
   "source": []
  }
 ],
 "metadata": {
  "kernelspec": {
   "display_name": "Python 3.8.6 ('venv': venv)",
   "language": "python",
   "name": "python3"
  },
  "language_info": {
   "codemirror_mode": {
    "name": "ipython",
    "version": 3
   },
   "file_extension": ".py",
   "mimetype": "text/x-python",
   "name": "python",
   "nbconvert_exporter": "python",
   "pygments_lexer": "ipython3",
   "version": "3.8.6"
  },
  "orig_nbformat": 4,
  "vscode": {
   "interpreter": {
    "hash": "e226ee47668eee6bfa373ab47274e40d4e01c0faaa5d7ece11f745a7c733c8bf"
   }
  }
 },
 "nbformat": 4,
 "nbformat_minor": 2
}
