{
 "cells": [
  {
   "cell_type": "code",
   "execution_count": 1,
   "id": "4048d08c-2457-4e70-a5d8-903f55d45395",
   "metadata": {},
   "outputs": [],
   "source": [
    "%matplotlib inline"
   ]
  },
  {
   "cell_type": "code",
   "execution_count": 2,
   "id": "7d935ba0-2eaf-416b-a4c2-da4418127614",
   "metadata": {},
   "outputs": [
    {
     "data": {
      "text/plain": [
       "'Linux-5.15.0-48-generic-x86_64-with-glibc2.35'"
      ]
     },
     "execution_count": 2,
     "metadata": {},
     "output_type": "execute_result"
    }
   ],
   "source": [
    "import platform \n",
    "platform.platform()"
   ]
  },
  {
   "cell_type": "code",
   "execution_count": 3,
   "id": "e3fe4c54-6860-48b3-9759-22b754807cb8",
   "metadata": {},
   "outputs": [
    {
     "data": {
      "text/plain": [
       "sys.version_info(major=3, minor=9, micro=1, releaselevel='final', serial=0)"
      ]
     },
     "execution_count": 3,
     "metadata": {},
     "output_type": "execute_result"
    }
   ],
   "source": [
    "import sys\n",
    "sys.version_info"
   ]
  },
  {
   "cell_type": "code",
   "execution_count": 4,
   "id": "a8a5cdd4-ece8-4a71-93aa-2f148d19ad54",
   "metadata": {},
   "outputs": [
    {
     "name": "stdout",
     "output_type": "stream",
     "text": [
      "버전:\t 3.6.0\n",
      "installed location:\t /home/ozzom/Workspace/venv/lib/python3.9/site-packages/matplotlib/__init__.py\n",
      "configuration:\t /home/ozzom/.config/matplotlib\n",
      "cache:\t /home/ozzom/.cache/matplotlib\n"
     ]
    }
   ],
   "source": [
    "import matplotlib\n",
    "print('버전:\\t', matplotlib.__version__)\n",
    "print('installed location:\\t', matplotlib.__file__)\n",
    "print('configuration:\\t', matplotlib.get_configdir())\n",
    "print('cache:\\t', matplotlib.get_cachedir())"
   ]
  },
  {
   "cell_type": "code",
   "execution_count": 5,
   "id": "dff359f7-3e1c-44d3-afe2-fd970b664516",
   "metadata": {},
   "outputs": [
    {
     "data": {
      "text/plain": [
       "array([  99,   76,   -3,  -96, -108, -112,  -54, -127,  -63,   -7,   50,\n",
       "        145,  154,  249,  255,  166,  113,  130,  142,  141,  164,   99,\n",
       "        101,  152,  141,  148,  213,  252,  245,  260,  168,  250,  270,\n",
       "        340,  306,  312,  258,  237,  281,  318,  367,  367,  403,  460,\n",
       "        424,  364,  375,  292,  215,  221])"
      ]
     },
     "execution_count": 5,
     "metadata": {},
     "output_type": "execute_result"
    }
   ],
   "source": [
    "import numpy as np\n",
    "\n",
    "data = np.random.randint(-100, 100,50).cumsum()\n",
    "data"
   ]
  },
  {
   "cell_type": "code",
   "execution_count": 7,
   "id": "7ffa0285-7356-4b36-90c2-9894482e1799",
   "metadata": {},
   "outputs": [],
   "source": [
    "import matplotlib.pyplot as plt \n"
   ]
  },
  {
   "cell_type": "code",
   "execution_count": 8,
   "id": "2008594d-1798-44ba-bcd9-a09f647e3443",
   "metadata": {},
   "outputs": [
    {
     "name": "stderr",
     "output_type": "stream",
     "text": [
      "findfont: Font family 'malgun' not found.\n",
      "findfont: Font family 'malgun' not found.\n",
      "findfont: Font family 'malgun' not found.\n",
      "findfont: Font family 'malgun' not found.\n",
      "findfont: Font family 'malgun' not found.\n",
      "findfont: Font family 'malgun' not found.\n",
      "findfont: Font family 'malgun' not found.\n",
      "findfont: Font family 'malgun' not found.\n",
      "/home/ozzom/Workspace/venv/lib/python3.9/site-packages/IPython/core/pylabtools.py:151: UserWarning: Glyph 44032 (\\N{HANGUL SYLLABLE GA}) missing from current font.\n",
      "  fig.canvas.print_figure(bytes_io, **kw)\n",
      "/home/ozzom/Workspace/venv/lib/python3.9/site-packages/IPython/core/pylabtools.py:151: UserWarning: Glyph 44201 (\\N{HANGUL SYLLABLE GYEOG}) missing from current font.\n",
      "  fig.canvas.print_figure(bytes_io, **kw)\n",
      "findfont: Font family 'malgun' not found.\n",
      "findfont: Font family 'malgun' not found.\n",
      "/home/ozzom/Workspace/venv/lib/python3.9/site-packages/IPython/core/pylabtools.py:151: UserWarning: Glyph 48320 (\\N{HANGUL SYLLABLE BYEON}) missing from current font.\n",
      "  fig.canvas.print_figure(bytes_io, **kw)\n",
      "/home/ozzom/Workspace/venv/lib/python3.9/site-packages/IPython/core/pylabtools.py:151: UserWarning: Glyph 46041 (\\N{HANGUL SYLLABLE DONG}) missing from current font.\n",
      "  fig.canvas.print_figure(bytes_io, **kw)\n",
      "/home/ozzom/Workspace/venv/lib/python3.9/site-packages/IPython/core/pylabtools.py:151: UserWarning: Glyph 52628 (\\N{HANGUL SYLLABLE CU}) missing from current font.\n",
      "  fig.canvas.print_figure(bytes_io, **kw)\n",
      "/home/ozzom/Workspace/venv/lib/python3.9/site-packages/IPython/core/pylabtools.py:151: UserWarning: Glyph 51060 (\\N{HANGUL SYLLABLE I}) missing from current font.\n",
      "  fig.canvas.print_figure(bytes_io, **kw)\n",
      "findfont: Font family 'malgun' not found.\n",
      "findfont: Font family 'malgun' not found.\n",
      "findfont: Font family 'malgun' not found.\n",
      "findfont: Font family 'malgun' not found.\n",
      "findfont: Font family 'malgun' not found.\n",
      "findfont: Font family 'malgun' not found.\n",
      "findfont: Font family 'malgun' not found.\n",
      "findfont: Font family 'malgun' not found.\n",
      "findfont: Font family 'malgun' not found.\n",
      "findfont: Font family 'malgun' not found.\n",
      "findfont: Font family 'malgun' not found.\n",
      "findfont: Font family 'malgun' not found.\n",
      "findfont: Font family 'malgun' not found.\n",
      "findfont: Font family 'malgun' not found.\n",
      "findfont: Font family 'malgun' not found.\n",
      "findfont: Font family 'malgun' not found.\n",
      "findfont: Font family 'malgun' not found.\n",
      "findfont: Font family 'malgun' not found.\n",
      "findfont: Font family 'malgun' not found.\n",
      "findfont: Font family 'malgun' not found.\n",
      "findfont: Font family 'malgun' not found.\n",
      "findfont: Font family 'malgun' not found.\n",
      "findfont: Font family 'malgun' not found.\n",
      "findfont: Font family 'malgun' not found.\n",
      "findfont: Font family 'malgun' not found.\n",
      "findfont: Font family 'malgun' not found.\n",
      "findfont: Font family 'malgun' not found.\n",
      "findfont: Font family 'malgun' not found.\n",
      "findfont: Font family 'malgun' not found.\n",
      "findfont: Font family 'malgun' not found.\n",
      "findfont: Font family 'malgun' not found.\n",
      "findfont: Font family 'malgun' not found.\n",
      "findfont: Font family 'malgun' not found.\n",
      "findfont: Font family 'malgun' not found.\n"
     ]
    },
    {
     "data": {
      "image/png": "[encoded data removed]",
      "text/plain": [
       "<Figure size 640x480 with 1 Axes>"
      ]
     },
     "metadata": {},
     "output_type": "display_data"
    }
   ],
   "source": [
    "matplotlib.rcParams['font.family'] ='malgun'\n",
    "matplotlib.rcParams['font.size'] = 15\n",
    "matplotlib.rcParams['axes.unicode_minus'] = False\n",
    "\n",
    "plt.plot(range(50), data, 'r')\n",
    "plt.title('가격변동 추이')\n",
    "plt.ylabel('가격')\n",
    "plt.show()"
   ]
  },
  {
   "cell_type": "code",
   "execution_count": 14,
   "id": "b408a949-93d8-4dcb-95c8-900a42583148",
   "metadata": {},
   "outputs": [],
   "source": [
    "import matplotlib.font_manager as fm \n",
    "fm._rebuild()\n"
   ]
  },
  {
   "cell_type": "code",
   "execution_count": null,
   "id": "20130300-833c-4539-8b2c-c73e416518c3",
   "metadata": {},
   "outputs": [],
   "source": []
  }
 ],
 "metadata": {
  "kernelspec": {
   "display_name": "Python 3 (ipykernel)",
   "language": "python",
   "name": "python3"
  },
  "language_info": {
   "codemirror_mode": {
    "name": "ipython",
    "version": 3
   },
   "file_extension": ".py",
   "mimetype": "text/x-python",
   "name": "python",
   "nbconvert_exporter": "python",
   "pygments_lexer": "ipython3",
   "version": "3.9.1"
  }
 },
 "nbformat": 4,
 "nbformat_minor": 5
}
