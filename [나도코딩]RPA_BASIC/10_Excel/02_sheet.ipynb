{
 "cells": [
  {
   "cell_type": "code",
   "execution_count": 19,
   "id": "c23ca506-055e-44eb-a2ff-11474018d12e",
   "metadata": {},
   "outputs": [],
   "source": [
    "from openpyxl import Workbook"
   ]
  },
  {
   "cell_type": "code",
   "execution_count": 20,
   "id": "5bdeb851-4d67-4875-8cf8-9355ebe6836c",
   "metadata": {},
   "outputs": [],
   "source": [
    "wb = Workbook()                          # 엑셀파일로 생각하면 된다. \n",
    "ws = wb.create_sheet()                   # 새로운 sheet 기본이름으로 생성 \n",
    "ws.title = \"MySheet\"                     # sheet 이름이 변경 됨 \n",
    "ws.sheet_properties.tabColor = \"ff66ff\"  # rgb 형태로 값을 넣어주면 탭 색상 변경 "
   ]
  },
  {
   "cell_type": "code",
   "execution_count": 21,
   "id": "71b11f93-eedb-4ff3-a6cf-bbc661b6490b",
   "metadata": {},
   "outputs": [],
   "source": [
    "#sheet, MySheet, YourSheet\n",
    "ws1 = wb.create_sheet(\"YourSheet\")    # 주어진 이름으로 Sheet 생성, 기본은 마지막에 sheet가 생성 됨 \n",
    "ws2 = wb.create_sheet(\"NewSheet\", 2)  # 2번째 인덱스에 Sheet 생성 "
   ]
  },
  {
   "cell_type": "code",
   "execution_count": 22,
   "id": "56a0eee8-e4ad-41df-8c0e-2652b5f3a083",
   "metadata": {},
   "outputs": [
    {
     "name": "stdout",
     "output_type": "stream",
     "text": [
      "['Sheet', 'MySheet', 'NewSheet', 'YourSheet']\n",
      "['Sheet', 'MySheet', 'NewSheet', 'YourSheet', 'copied_sheet']\n"
     ]
    }
   ],
   "source": [
    "# WorkBook에서 Sheet 명으로 접근하기 \n",
    "new_ws = wb[\"NewSheet\"]  # dict 형태로 Sheet에 접근 \n",
    "\n",
    "print(wb.sheetnames)   # 모든 Sheet 이름 확인 \n",
    "\n",
    "#new_ws 시트 내용을 Target_ws시트에 복사 \n",
    "new_ws[\"A1\"]= \"test\"        # new_WS의 A:1에 test를 입력 \n",
    "target_ws = wb.copy_worksheet(new_ws)\n",
    "target_ws.title = \"copied_sheet\""
   ]
  },
  {
   "cell_type": "code",
   "execution_count": 23,
   "id": "0360b33b-6c92-4d17-b98e-ce083c9364f4",
   "metadata": {},
   "outputs": [
    {
     "name": "stdout",
     "output_type": "stream",
     "text": [
      "['Sheet', 'MySheet', 'NewSheet', 'YourSheet', 'copied_sheet']\n"
     ]
    }
   ],
   "source": [
    "print(wb.sheetnames)   # 모든 Sheet 이름 확인 "
   ]
  },
  {
   "cell_type": "code",
   "execution_count": 24,
   "id": "2b5b711b-7abf-4270-ac6e-4f42ce896042",
   "metadata": {},
   "outputs": [],
   "source": [
    "wb.save('02_sheet.xlsx')"
   ]
  },
  {
   "cell_type": "code",
   "execution_count": null,
   "id": "76a8efbb-dbcc-464c-bcc7-4270889c96bd",
   "metadata": {},
   "outputs": [],
   "source": []
  }
 ],
 "metadata": {
  "kernelspec": {
   "display_name": "Python 3 (ipykernel)",
   "language": "python",
   "name": "python3"
  },
  "language_info": {
   "codemirror_mode": {
    "name": "ipython",
    "version": 3
   },
   "file_extension": ".py",
   "mimetype": "text/x-python",
   "name": "python",
   "nbconvert_exporter": "python",
   "pygments_lexer": "ipython3",
   "version": "3.9.1"
  }
 },
 "nbformat": 4,
 "nbformat_minor": 5
}
