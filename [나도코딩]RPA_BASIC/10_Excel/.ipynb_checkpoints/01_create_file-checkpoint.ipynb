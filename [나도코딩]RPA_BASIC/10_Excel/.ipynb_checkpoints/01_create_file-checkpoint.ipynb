{
 "cells": [
  {
   "cell_type": "code",
   "execution_count": 1,
   "id": "69db9ca1-d4db-4db3-bc26-222326f64e8a",
   "metadata": {},
   "outputs": [],
   "source": [
    "from openpyxl import Workbook"
   ]
  },
  {
   "cell_type": "code",
   "execution_count": 2,
   "id": "a3adfcef-8611-458a-89fb-9affcb7915d0",
   "metadata": {},
   "outputs": [],
   "source": [
    "wb = Workbook()     # 엑셀 파일\n",
    "ws = wb.active      # ws는 엑셀 시트 \n",
    "ws.title = 'test'"
   ]
  },
  {
   "cell_type": "code",
   "execution_count": 6,
   "id": "e3931f97-13c6-49e3-ad91-3be64c98aa79",
   "metadata": {},
   "outputs": [],
   "source": [
    "wb.save('test.xlsx')"
   ]
  },
  {
   "cell_type": "code",
   "execution_count": null,
   "id": "55c31525-67dc-4428-8365-c0df75335ed6",
   "metadata": {},
   "outputs": [],
   "source": []
  }
 ],
 "metadata": {
  "kernelspec": {
   "display_name": "Python 3 (ipykernel)",
   "language": "python",
   "name": "python3"
  },
  "language_info": {
   "codemirror_mode": {
    "name": "ipython",
    "version": 3
   },
   "file_extension": ".py",
   "mimetype": "text/x-python",
   "name": "python",
   "nbconvert_exporter": "python",
   "pygments_lexer": "ipython3",
   "version": "3.9.1"
  }
 },
 "nbformat": 4,
 "nbformat_minor": 5
}
