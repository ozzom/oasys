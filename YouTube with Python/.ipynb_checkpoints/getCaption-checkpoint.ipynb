{
 "cells": [
  {
   "cell_type": "code",
   "execution_count": 7,
   "id": "f2662141-5da8-447c-80bb-97a9531c4411",
   "metadata": {},
   "outputs": [],
   "source": [
    "from pytube import Playlist, YouTube\n",
    "from youtube_transcript_api import YouTubeTranscriptApi\n",
    "import time, re"
   ]
  },
  {
   "cell_type": "code",
   "execution_count": 43,
   "id": "a014e67b-6120-4e9c-82d0-6493e44f9742",
   "metadata": {
    "jupyter": {
     "source_hidden": true
    },
    "tags": []
   },
   "outputs": [],
   "source": [
    "def ChangeFormat(time):\n",
    "    base = 60   \n",
    "\n",
    "    hour = int(time // (base * 60))\n",
    "    min = int((time // base ) if (time // base ) <= 59  else (time // base) - 60 * hour)\n",
    "    sec = round(time % base, 3)\n",
    "    \n",
    "    str_hour = '0'+str(hour) if len(str(hour)) < 2 else str(hour)\n",
    "    str_min = '0'+str(min) if len(str(min)) < 2 else str(min)\n",
    "    str_sec = '0'+ str(sec).split('.')[0] if len(str(sec).split('.')[0]) == 1 else str(sec).split('.')[0]\n",
    "    str_micro = str(sec).split('.')[1]+'0' if len(str(sec).split('.')[1]) <= 2 else str(sec).split('.')[1]\n",
    "    \n",
    "    return str_hour + \":\" + str_min + \":\" +  str_sec + \",\" + str_micro"
   ]
  },
  {
   "cell_type": "code",
   "execution_count": 21,
   "id": "0265d467-cf4b-46c4-8a76-6cd188eeaa3d",
   "metadata": {},
   "outputs": [],
   "source": [
    "url = 'https://youtube.com/playlist?list=PLBwuHqO9auUV0ToNuFRt16KWg9j0wKOur'"
   ]
  },
  {
   "cell_type": "code",
   "execution_count": 22,
   "id": "52e71fb5-b5af-48c7-8bf3-e2ac5eeaa92f",
   "metadata": {},
   "outputs": [],
   "source": [
    "playList = Playlist(url) "
   ]
  },
  {
   "cell_type": "code",
   "execution_count": 24,
   "id": "1588302a-91b1-43e1-ba99-bc0046e63240",
   "metadata": {},
   "outputs": [
    {
     "data": {
      "text/plain": [
       "['https://www.youtube.com/watch?v=LxW70qO0BRw', 'https://www.youtube.com/watch?v=QLn30aZ82iI', 'https://www.youtube.com/watch?v=DhsF7qu78VQ', 'https://www.youtube.com/watch?v=FvMYzJbPaDo', 'https://www.youtube.com/watch?v=ywnLV42vbqI', 'https://www.youtube.com/watch?v=d_YKOGOIk-k', 'https://www.youtube.com/watch?v=3t9zdKBxWZM', 'https://www.youtube.com/watch?v=wuE_1ktC35k', 'https://www.youtube.com/watch?v=ukD5vAqBHRA', 'https://www.youtube.com/watch?v=WVC4iuz1AbQ']"
      ]
     },
     "execution_count": 24,
     "metadata": {},
     "output_type": "execute_result"
    }
   ],
   "source": [
    "playList.video_urls"
   ]
  },
  {
   "cell_type": "code",
   "execution_count": 29,
   "id": "d801786e-dbc5-4a05-a210-c275cbf16c8a",
   "metadata": {},
   "outputs": [
    {
     "name": "stdout",
     "output_type": "stream",
     "text": [
      "['/home/ozzom/Documents/catpion/English', 'Conversation', 'for', 'Everyday', 'Life', '', '', 'Daily', 'English', 'Speaking', '', '', 'Listening', 'Practice.txt'] /home/ozzom/Documents/catpion/English Conversation for Everyday Life   Daily English Speaking   Listening Practice.txt\n"
     ]
    }
   ],
   "source": [
    "total = len(playList.video_urls)\n",
    "\n",
    "for idx, url in enumerate(playList.video_urls):\n",
    "    try:\n",
    "        yt = YouTube(url) \n",
    "        cleanText = \"[-=+,#/\\?:^$.@*\\\"※~&%ㆍ!』\\\\‘|\\(\\)\\[\\]\\<\\>`\\'…》]\" \n",
    "        title = re.sub(cleanText, '', yt.title)\n",
    "\n",
    "        caption = YouTubeTranscriptApi.get_transcript(url.split('=')[1], languages=(['en']))\n",
    "\n",
    "        fileNm = \"/home/ozzom/Documents/catpion/\"+ title + '.txt'\n",
    "        \n",
    "        fileNmList =fileNm.split(' ')\n",
    "        print(fileNmList, ' '.join(fileNmList))\n",
    "        \n",
    "        if idx == 0:\n",
    "            break \n",
    "    \n",
    "#         with open (fileNm, 'w', encoding='utf-8') as f:\n",
    "#             prev_list = []\n",
    "#             for jdx, line in enumerate(caption):\n",
    "#                 curr_list = line['text'].split(' ')\n",
    "#                 new_list= []\n",
    "                \n",
    "#                 for word in curr_list:\n",
    "#                     if word not in prev_list:\n",
    "#                         new_list.append(word)\n",
    "#                         prev_list = new_list\n",
    "                        \n",
    "#                 prev_list = new_list        \n",
    "                \n",
    "#                 if ' '.join(new_list) != '' :\n",
    "#                     f.write(\"\\n\")\n",
    "#                     f.write(\"{}\".format(' '.join(new_list)))  \n",
    "                        \n",
    "        i = int(round(idx / (total-1) *100, 0))\n",
    "        status = i *'#' + (100-i)*\"=\"\n",
    "        print(f\"\\r{status} {i}%\", end=\"\")         \n",
    "        \n",
    "    except Exception as e : \n",
    "        print(e) \n",
    "        break\n"
   ]
  },
  {
   "cell_type": "code",
   "execution_count": null,
   "id": "06ddbdab-3cd4-4a62-a419-c764c73622fd",
   "metadata": {},
   "outputs": [],
   "source": []
  }
 ],
 "metadata": {
  "kernelspec": {
   "display_name": "Python 3 (ipykernel)",
   "language": "python",
   "name": "python3"
  },
  "language_info": {
   "codemirror_mode": {
    "name": "ipython",
    "version": 3
   },
   "file_extension": ".py",
   "mimetype": "text/x-python",
   "name": "python",
   "nbconvert_exporter": "python",
   "pygments_lexer": "ipython3",
   "version": "3.9.1"
  }
 },
 "nbformat": 4,
 "nbformat_minor": 5
}
