{
 "cells": [
  {
   "cell_type": "code",
   "execution_count": 125,
   "id": "5d365b62-fd47-4e52-a633-f45389511a01",
   "metadata": {},
   "outputs": [],
   "source": [
    "def ChangeFormat(time):\n",
    "    base = 60   \n",
    "\n",
    "    hour = int(time // (base * 60))\n",
    "    min = int((time // base ) if (time // base ) <= 59  else (time // base) - 60 * hour)\n",
    "    sec = round(time % base, 3)\n",
    "    \n",
    "    str_hour = '0'+str(hour) if len(str(hour)) < 2 else str(hour)\n",
    "    str_min = '0'+str(min) if len(str(min)) < 2 else str(min)\n",
    "    str_sec = '0'+ str(sec).split('.')[0] if len(str(sec).split('.')[0]) == 1 else str(sec).split('.')[0]\n",
    "    str_micro = str(sec).split('.')[1]+'0' if len(str(sec).split('.')[1]) <= 2 else str(sec).split('.')[1]\n",
    "    \n",
    "    return str_hour + \":\" + str_min + \":\" +  str_sec + \",\" + str_micro"
   ]
  },
  {
   "cell_type": "code",
   "execution_count": 126,
   "id": "f6ca8f08-09ba-416f-b47d-60626e9f37ec",
   "metadata": {},
   "outputs": [],
   "source": [
    "from pytube import Playlist, YouTube\n",
    "from youtube_transcript_api import YouTubeTranscriptApi\n",
    "import re "
   ]
  },
  {
   "cell_type": "code",
   "execution_count": 127,
   "id": "b369e468-fd4d-4ba0-81c4-7668ac7180f6",
   "metadata": {},
   "outputs": [],
   "source": [
    "url = 'https://youtube.com/watch?v=br7tS1t2SFE'\n",
    "caption = YouTubeTranscriptApi.get_transcript(url.split('=')[1], languages=(['ko']))"
   ]
  },
  {
   "cell_type": "code",
   "execution_count": 129,
   "id": "6903499c-ed3c-402f-abae-9813ecfdc96f",
   "metadata": {},
   "outputs": [],
   "source": [
    "yt = YouTube(url) \n",
    "\n",
    "cleanText = \"[-=+,#/\\?:^$.@*\\\"※~&%ㆍ!』\\\\‘|\\(\\)\\[\\]\\<\\>`\\'…》]\" \n",
    "fileNm = re.sub(cleanText,' ' ,yt.title)\n",
    "\n",
    "for idx, line in enumerate(caption): \n",
    "    \n",
    "    with open (fileNm , 'w', encoding='utf-8') as f:\n",
    "        f.writelines(\"{}\\n\".format(idx))\n",
    "        f.writelines(\"{} --> {}\\n\".format(ChangeFormat(line['start']), ChangeFormat(line['start']+line['duration'])))\n",
    "        f.writelines(\"{}\\n\".format(line['text']))\n",
    "        f.writelines(\"\\n\")\n",
    "    \n",
    "    "
   ]
  },
  {
   "cell_type": "code",
   "execution_count": null,
   "id": "812eb123-74d0-4d1f-9daa-4c12121da685",
   "metadata": {},
   "outputs": [],
   "source": []
  }
 ],
 "metadata": {
  "kernelspec": {
   "display_name": "Python 3 (ipykernel)",
   "language": "python",
   "name": "python3"
  },
  "language_info": {
   "codemirror_mode": {
    "name": "ipython",
    "version": 3
   },
   "file_extension": ".py",
   "mimetype": "text/x-python",
   "name": "python",
   "nbconvert_exporter": "python",
   "pygments_lexer": "ipython3",
   "version": "3.9.1"
  }
 },
 "nbformat": 4,
 "nbformat_minor": 5
}
