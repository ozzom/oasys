{
 "cells": [
  {
   "cell_type": "code",
   "execution_count": 1,
   "id": "94ba5ded-e7a1-4944-9234-f212ec308d6f",
   "metadata": {},
   "outputs": [],
   "source": [
    "from pytube import Playlist, YouTube\n",
    "import os \n",
    "import glob\n",
    "\n",
    "DOWNLOAD_FOLDER = r'~/Downloads/' \n",
    "\n",
    "\n",
    "# url = 'https://www.youtube.com/watch?v=Zhw-0Vw4jZc&list=PL7ZVZgsnLwEF4wvGL2OHZbodXCLWM2Uhn'        \n",
    "\n",
    "p = Playlist(url)\n",
    "\n",
    "for video in p.videos:\n",
    "    srcFile = video.streams.filter(only_audio=True, abr='128kbps').first().download(DOWNLOAD_FOLDER)\n",
    "    \n",
    "    #  mp4을 mp3로 변환 \n",
    "    file = glob.glob(srcFile)\n",
    "    for x in file: \n",
    "        if not os.path.isdir(x):\n",
    "            fileName = os.path.splitext(x)\n",
    "            try:\n",
    "                os.rename(x, fileName[0]+'.mp3')\n",
    "            except EOFError as err : \n",
    "                print(err) \n",
    "\n",
    "    print(\"videos No.{} is Complete!!!\".format(video))"
   ]
  },
  {
   "cell_type": "code",
   "execution_count": null,
   "id": "4beba018-d2e7-4f47-a8fc-43afe10d2e66",
   "metadata": {},
   "outputs": [],
   "source": []
  }
 ],
 "metadata": {
  "kernelspec": {
   "display_name": "Python 3 (ipykernel)",
   "language": "python",
   "name": "python3"
  },
  "language_info": {
   "codemirror_mode": {
    "name": "ipython",
    "version": 3
   },
   "file_extension": ".py",
   "mimetype": "text/x-python",
   "name": "python",
   "nbconvert_exporter": "python",
   "pygments_lexer": "ipython3",
   "version": "3.9.1"
  }
 },
 "nbformat": 4,
 "nbformat_minor": 5
}
