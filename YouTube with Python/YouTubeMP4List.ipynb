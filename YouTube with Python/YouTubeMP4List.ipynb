{
 "cells": [
  {
   "cell_type": "code",
   "execution_count": 4,
   "id": "480c5691-0df2-4706-8399-584b31295d22",
   "metadata": {},
   "outputs": [],
   "source": [
    "from pytube import Playlist , YouTube\n",
    "import time , re "
   ]
  },
  {
   "cell_type": "code",
   "execution_count": 17,
   "id": "c43f3720-de43-4137-8393-211e8730b1f9",
   "metadata": {},
   "outputs": [],
   "source": [
    "DOWNLOAD_FOLDER = '/home/ozzom/Videos/'\n",
    "\n",
    "# url = 'https://www.youtube.com/playlist?list=PLVsNizTWUw7H9_of5YCB0FmsSc-K44y81'\n",
    "url_list= [\n",
    " # 'https://youtube.com/watch?v=Mf0pYO8VAZk',\n",
    " # 'https://youtube.com/watch?v=Pj3IX2VehkU',\n",
    " # 'https://youtube.com/watch?v=INg6kdOEEVc',\n",
    " # 'https://youtube.com/watch?v=GUwkMLtDQJE',\n",
    " # 'https://youtube.com/watch?v=p6df7qv6jFQ',\n",
    " # 'https://youtube.com/watch?v=Mkk8WOCAlqQ',\n",
    " # 'https://youtube.com/watch?v=EmVu4na4fRY',\n",
    " # 'https://youtube.com/watch?v=PCJOT5LHzxE',\n",
    " # 'https://youtube.com/watch?v=x7dIUaefI0A',\n",
    " # 'https://youtube.com/watch?v=M_wLOmNRBN8',\n",
    " # 'https://youtube.com/watch?v=W1SO2e5IaSo',\n",
    " # 'https://youtube.com/watch?v=5OYlS2QQMPA',\n",
    " # 'https://youtube.com/watch?v=_TG0hVYJ6D8',\n",
    " # 'https://youtube.com/watch?v=puH2p1CQEg4',\n",
    " # 'https://youtube.com/watch?v=QhMY4t2xwG0',\n",
    " # 'https://youtube.com/watch?v=7iLoLcna7Hw',\n",
    " # 'https://youtube.com/watch?v=gFpKGWdEE5g',\n",
    " # 'https://youtube.com/watch?v=1vLqC1rItM8',\n",
    " # 'https://youtube.com/watch?v=CJiF-muKz30',\n",
    " # 'https://youtube.com/watch?v=e7_H8SLZlHY',\n",
    " # 'https://youtube.com/watch?v=jpyslMwprao',\n",
    " # 'https://youtube.com/watch?v=DRkL5EBZ7KY',\n",
    " # 'https://youtube.com/watch?v=EuJSDghD4z8',\n",
    " # 'https://youtube.com/watch?v=65Ui3RNibRA',\n",
    " # 'https://youtube.com/watch?v=_kdE7ykab4Q',\n",
    " # 'https://youtube.com/watch?v=-Gx0T92-7h8',\n",
    " # 'https://youtube.com/watch?v=jjOmN2_lmdk',\n",
    " # 'https://youtube.com/watch?v=rWbjQphRE9A',\n",
    " 'https://youtube.com/watch?v=tWX6FZwwQMI',\n",
    " 'https://youtube.com/watch?v=F-tkqjUiik0',\n",
    " 'https://youtube.com/watch?v=hw-SvAR3Zqg',\n",
    " 'https://youtube.com/watch?v=liuUazQaLuU',\n",
    " 'https://youtube.com/watch?v=Ha0w2dJa2Nk',\n",
    " 'https://youtube.com/watch?v=Mw8W56qNL8U',\n",
    " 'https://youtube.com/watch?v=Gj7s-Nrt1xE',\n",
    " 'https://youtube.com/watch?v=xeSz3pROPS8',\n",
    " 'https://youtube.com/watch?v=CyINCmJPjfM',\n",
    " 'https://youtube.com/watch?v=9rLFFKmKzno',\n",
    " 'https://youtube.com/watch?v=ttLRltNDiCo',\n",
    " 'https://youtube.com/watch?v=kqyHnoriStk',\n",
    " 'https://youtube.com/watch?v=4u6tndiG7Iw'\n",
    "]"
   ]
  },
  {
   "cell_type": "code",
   "execution_count": 18,
   "id": "a0fb4060-1c81-4e20-906d-ccadda2e04e5",
   "metadata": {},
   "outputs": [],
   "source": [
    "# yt = YouTube(url)"
   ]
  },
  {
   "cell_type": "code",
   "execution_count": 19,
   "id": "21fe61f7-017b-4f50-8eb8-62f812cd8380",
   "metadata": {},
   "outputs": [
    {
     "name": "stdout",
     "output_type": "stream",
     "text": [
      "[이것이 코딩 테스트다 with Python] 29강 다이나믹 프로그래밍 기초 문제 풀이 start... \n",
      "[이것이 코딩 테스트다 with Python] 29강 다이나믹 프로그래밍 기초 문제 풀이 is completed.... !!\n",
      "[이것이 코딩 테스트다 with Python] 30강 다익스트라 최단 경로 알고리즘 start... \n",
      "[이것이 코딩 테스트다 with Python] 30강 다익스트라 최단 경로 알고리즘 is completed.... !!\n",
      "[이것이 코딩 테스트다 with Python] 31강 플로이드 워셜 알고리즘 start... \n",
      "[이것이 코딩 테스트다 with Python] 31강 플로이드 워셜 알고리즘 is completed.... !!\n",
      "[이것이 코딩 테스트다 with Python] 32강 최단 경로 알고리즘 기초 문제 풀이 start... \n",
      "[이것이 코딩 테스트다 with Python] 32강 최단 경로 알고리즘 기초 문제 풀이 is completed.... !!\n",
      "[이것이 코딩 테스트다 with Python] 33강 서로소 집합 자료구조 start... \n",
      "[이것이 코딩 테스트다 with Python] 33강 서로소 집합 자료구조 is completed.... !!\n",
      "[이것이 코딩 테스트다 with Python] 34강 서로소 집합을 활용한 사이클 판별 start... \n",
      "[이것이 코딩 테스트다 with Python] 34강 서로소 집합을 활용한 사이클 판별 is completed.... !!\n",
      "[이것이 코딩 테스트다 with Python] 35강 크루스칼 알고리즘 start... \n",
      "[이것이 코딩 테스트다 with Python] 35강 크루스칼 알고리즘 is completed.... !!\n",
      "[이것이 코딩 테스트다 with Python] 36강 위상 정렬 start... \n",
      "[이것이 코딩 테스트다 with Python] 36강 위상 정렬 is completed.... !!\n",
      "[이것이 코딩 테스트다 with Python]  37강 소수 판별 알고리즘 start... \n",
      "[이것이 코딩 테스트다 with Python]  37강 소수 판별 알고리즘 is completed.... !!\n",
      "[이것이 코딩 테스트다 with Python] 38강 에라토스테네스의 체 start... \n",
      "[이것이 코딩 테스트다 with Python] 38강 에라토스테네스의 체 is completed.... !!\n",
      "[이것이 코딩 테스트다 with Python] 39강 투 포인터 start... \n",
      "[이것이 코딩 테스트다 with Python] 39강 투 포인터 is completed.... !!\n",
      "[이것이 코딩 테스트다 with Python] 40강 구간 합 빠르게 계산하기 start... \n",
      "[이것이 코딩 테스트다 with Python] 40강 구간 합 빠르게 계산하기 is completed.... !!\n",
      "[이것이 코딩 테스트다 with Python] 41강 개발형 코딩 테스트 start... \n",
      "[이것이 코딩 테스트다 with Python] 41강 개발형 코딩 테스트 is completed.... !!\n"
     ]
    }
   ],
   "source": [
    "for idx, url in enumerate(url_list):\n",
    "    yt = YouTube(url)\n",
    "    print(\"{} start... \".format(yt.title))\n",
    "    srcFile = yt.streams.filter(progressive=True, file_extension='mp4', res='720p').first().download(DOWNLOAD_FOLDER)\n",
    "    print(\"{} is completed.... !!\".format(yt.title))\n",
    "\n",
    "# ------------------------------------------------------------------\n",
    "# list = Playlist(url)\n",
    "\n",
    "# url_list = []\n",
    "# for video in list.videos:\n",
    "#     cleanText = \"[-=+,#/\\?:^$.@*\\\"※~&%ㆍ!』\\\\‘|\\(\\)\\[\\]\\<\\>`\\'…》] \" \n",
    "#     print(video.title, video.watch_url)\n",
    "#     url_list.append(video.watch_url)\n",
    "#     # title = re.sub(cleanText, '', video.title)\n",
    "    \n",
    "    \n",
    "#     # print(\"{} : {} \".format(video.title, video.watch_url))\n",
    "#     # video.streams.filter(progressive=True, file_extension='mp4', res='720p').first().download(DOWNLOAD_FOLDER)\n",
    "#     # print(\"{} download has been completed.... !!\".format(video.title))\n",
    "    "
   ]
  },
  {
   "cell_type": "code",
   "execution_count": 10,
   "id": "89b5a242-df03-4a99-9fe0-ef020f560ee8",
   "metadata": {},
   "outputs": [
    {
     "data": {
      "text/plain": [
       "['https://youtube.com/watch?v=Mf0pYO8VAZk',\n",
       " 'https://youtube.com/watch?v=Pj3IX2VehkU',\n",
       " 'https://youtube.com/watch?v=INg6kdOEEVc',\n",
       " 'https://youtube.com/watch?v=GUwkMLtDQJE',\n",
       " 'https://youtube.com/watch?v=p6df7qv6jFQ',\n",
       " 'https://youtube.com/watch?v=Mkk8WOCAlqQ',\n",
       " 'https://youtube.com/watch?v=EmVu4na4fRY',\n",
       " 'https://youtube.com/watch?v=PCJOT5LHzxE',\n",
       " 'https://youtube.com/watch?v=x7dIUaefI0A',\n",
       " 'https://youtube.com/watch?v=M_wLOmNRBN8',\n",
       " 'https://youtube.com/watch?v=W1SO2e5IaSo',\n",
       " 'https://youtube.com/watch?v=5OYlS2QQMPA',\n",
       " 'https://youtube.com/watch?v=_TG0hVYJ6D8',\n",
       " 'https://youtube.com/watch?v=puH2p1CQEg4',\n",
       " 'https://youtube.com/watch?v=QhMY4t2xwG0',\n",
       " 'https://youtube.com/watch?v=7iLoLcna7Hw',\n",
       " 'https://youtube.com/watch?v=gFpKGWdEE5g',\n",
       " 'https://youtube.com/watch?v=1vLqC1rItM8',\n",
       " 'https://youtube.com/watch?v=CJiF-muKz30',\n",
       " 'https://youtube.com/watch?v=e7_H8SLZlHY',\n",
       " 'https://youtube.com/watch?v=jpyslMwprao',\n",
       " 'https://youtube.com/watch?v=DRkL5EBZ7KY',\n",
       " 'https://youtube.com/watch?v=EuJSDghD4z8',\n",
       " 'https://youtube.com/watch?v=65Ui3RNibRA',\n",
       " 'https://youtube.com/watch?v=_kdE7ykab4Q',\n",
       " 'https://youtube.com/watch?v=-Gx0T92-7h8',\n",
       " 'https://youtube.com/watch?v=jjOmN2_lmdk',\n",
       " 'https://youtube.com/watch?v=rWbjQphRE9A',\n",
       " 'https://youtube.com/watch?v=tWX6FZwwQMI',\n",
       " 'https://youtube.com/watch?v=F-tkqjUiik0',\n",
       " 'https://youtube.com/watch?v=hw-SvAR3Zqg',\n",
       " 'https://youtube.com/watch?v=liuUazQaLuU',\n",
       " 'https://youtube.com/watch?v=Ha0w2dJa2Nk',\n",
       " 'https://youtube.com/watch?v=Mw8W56qNL8U',\n",
       " 'https://youtube.com/watch?v=Gj7s-Nrt1xE',\n",
       " 'https://youtube.com/watch?v=xeSz3pROPS8',\n",
       " 'https://youtube.com/watch?v=CyINCmJPjfM',\n",
       " 'https://youtube.com/watch?v=9rLFFKmKzno',\n",
       " 'https://youtube.com/watch?v=ttLRltNDiCo',\n",
       " 'https://youtube.com/watch?v=kqyHnoriStk',\n",
       " 'https://youtube.com/watch?v=4u6tndiG7Iw']"
      ]
     },
     "execution_count": 10,
     "metadata": {},
     "output_type": "execute_result"
    }
   ],
   "source": [
    "url_list"
   ]
  },
  {
   "cell_type": "code",
   "execution_count": null,
   "id": "85a5acf6-b2ab-4f8b-9216-ae9e3976e14b",
   "metadata": {},
   "outputs": [],
   "source": []
  }
 ],
 "metadata": {
  "kernelspec": {
   "display_name": "Python 3 (ipykernel)",
   "language": "python",
   "name": "python3"
  },
  "language_info": {
   "codemirror_mode": {
    "name": "ipython",
    "version": 3
   },
   "file_extension": ".py",
   "mimetype": "text/x-python",
   "name": "python",
   "nbconvert_exporter": "python",
   "pygments_lexer": "ipython3",
   "version": "3.9.1"
  }
 },
 "nbformat": 4,
 "nbformat_minor": 5
}
