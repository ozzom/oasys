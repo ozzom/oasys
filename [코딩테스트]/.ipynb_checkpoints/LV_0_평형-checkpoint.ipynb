{
 "cells": [
  {
   "attachments": {},
   "cell_type": "markdown",
   "metadata": {},
   "source": [
    "문제 설명\n",
    "\n",
    "점 네 개의 좌표를 담은 이차원 배열  dots가 다음과 같이 매개변수로 주어집니다.\n",
    "\n",
    "    [[x1, y1], [x2, y2], [x3, y3], [x4, y4]]\n",
    "\n",
    "주어진 네 개의 점을 두 개씩 이었을 때, 두 직선이 평행이 되는 경우가 있으면 1을 없으면 0을 return 하도록 solution 함수를 완성해보세요.\n",
    "<br>제한사항</br>\n",
    "\n",
    "    dots의 길이 = 4\n",
    "    dots의 원소는 [x, y] 형태이며 x, y는 정수입니다.\n",
    "        0 ≤ x, y ≤ 100\n",
    "    서로 다른 두개 이상의 점이 겹치는 경우는 없습니다.\n",
    "    두 직선이 겹치는 경우(일치하는 경우)에도 1을 return 해주세요.\n",
    "    임의의 두 점을 이은 직선이 x축 또는 y축과 평행한 경우는 주어지지 않습니다.\n",
    "\n",
    "<br>입출력 예</br>\n",
    "<br>dots \tresult</br>\n",
    "[[1, 4], [9, 2], [3, 8], [11, 6]] \t1</br>\n",
    "[[3, 5], [4, 1], [2, 4], [5, 10]] \t0</br>\n",
    "\n",
    "입출력 예 설명</br>\n",
    "\n",
    "입출력 예 #1</br>\n",
    "    점 [1, 4], [3, 8]을 잇고 [9, 2], [11, 6]를 이으면 두 선분은 평행합니다.\n",
    "\n",
    "입출력 예 #2</br>\n",
    "\n",
    "    점을 어떻게 연결해도 평행하지 않습니다.\n"
   ]
  },
  {
   "cell_type": "code",
   "execution_count": 49,
   "metadata": {
    "vscode": {
     "languageId": "python"
    }
   },
   "outputs": [
    {
     "data": {
      "text/plain": [
       "0"
      ]
     },
     "execution_count": 49,
     "metadata": {},
     "output_type": "execute_result"
    }
   ],
   "source": [
    "def solution(dots):\n",
    "    answer = 0\n",
    "    \n",
    "    m_list = [] \n",
    "    for i in range(0, len(dots)):\n",
    "        for j in range(i+1, len(dots)):\n",
    "            m = (dots[j][1] - dots[i][1]) / (dots[j][0] - dots[i][0])\n",
    "            if m in m_list:\n",
    "                answer = 1 \n",
    "                break\n",
    "            m_list.append(m) \n",
    "    \n",
    "    return answer\n",
    "\n",
    "dots = [[3, 5], [4, 1], [2, 4], [5, 10]] \n",
    "solution(dots)"
   ]
  }
 ],
 "metadata": {
  "kernelspec": {
   "display_name": "Python 3 (ipykernel)",
   "language": "python",
   "name": "python3"
  },
  "orig_nbformat": 4
 },
 "nbformat": 4,
 "nbformat_minor": 2
}
