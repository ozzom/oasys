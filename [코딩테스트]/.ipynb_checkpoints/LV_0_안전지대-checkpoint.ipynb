{
 "cells": [
  {
   "cell_type": "markdown",
   "metadata": {},
   "source": [
    "\n",
    "문제 설명\n",
    "\n",
    "다음 그림과 같이 지뢰가 있는 지역과 지뢰에 인접한 위, 아래, 좌, 우 대각선 칸을 모두 위험지역으로 분류합니다.</br>\n",
    "-------------</br>\n",
    "X    X    X  </br> \n",
    "-------------</br> \n",
    "X    ○    X  </br>\n",
    "-------------</br> \n",
    "X    X    X  </br> \n",
    "-------------</br>\n",
    "\n",
    "\n",
    "지뢰는 2차원 배열 board에 1로 표시되어 있고 board에는 지뢰가 매설 된 지역 1과, 지뢰가 없는 지역 0만 존재합니다.</br>\n",
    "지뢰가 매설된 지역의 지도 board가 매개변수로 주어질 때, 안전한 지역의 칸 수를 return하도록 solution 함수를 완성해주세요.</br>\n",
    "제한사항</br>\n",
    "\n",
    "    board는 n * n 배열입니다.\n",
    "    1 ≤ n ≤ 100\n",
    "    지뢰는 1로 표시되어 있습니다.\n",
    "    board에는 지뢰가 있는 지역 1과 지뢰가 없는 지역 0만 존재합니다.\n",
    "\n",
    "입출력 예</br>\n",
    "board \tresult</br>\n",
    "[[0, 0, 0, 0, 0], [0, 0, 0, 0, 0], [0, 0, 0, 0, 0], [0, 0, 1, 0, 0], [0, 0, 0, 0, 0]] \t16</br>\n",
    "[[0, 0, 0, 0, 0], [0, 0, 0, 0, 0], [0, 0, 0, 0, 0], [0, 0, 1, 1, 0], [0, 0, 0, 0, 0]] \t13</br>\n",
    "[[1, 1, 1, 1, 1, 1], [1, 1, 1, 1, 1, 1], [1, 1, 1, 1, 1, 1], [1, 1, 1, 1, 1, 1], [1, 1, 1, 1, 1, 1], [1, 1, 1, 1, 1, 1]] \t0</br>\n",
    "입출력 예 설명</br>\n",
    "\n",
    "입출력 예 #1</br>\n",
    "\n",
    "    (3, 2)에 지뢰가 있으므로 지뢰가 있는 지역과 지뢰와 인접한 위, 아래, 좌, 우, 대각선 총 8칸은 위험지역입니다. 따라서 16을 return합니다.\n",
    "\n",
    "입출력 예 #2</br>\n",
    "\n",
    "    (3, 2), (3, 3)에 지뢰가 있으므로 지뢰가 있는 지역과 지뢰와 인접한 위, 아래, 좌, 우, 대각선은 위험지역입니다. 따라서 위험지역을 제외한 칸 수 13을 return합니다.\n",
    "\n",
    "입출력 예 #3</br>\n",
    "\n",
    "    모든 지역에 지뢰가 있으므로 안전지역은 없습니다. 따라서 0을 return합니다.\n",
    "\n"
   ]
  },
  {
   "cell_type": "code",
   "execution_count": 17,
   "metadata": {},
   "outputs": [
    {
     "data": {
      "text/plain": [
       "0"
      ]
     },
     "execution_count": 17,
     "metadata": {},
     "output_type": "execute_result"
    }
   ],
   "source": [
    "def solution(board):\n",
    "    answer = 0 \n",
    "    n = len(board)\n",
    "\n",
    "    area = set() \n",
    "\n",
    "    for i, row in enumerate(board):\n",
    "        for j, x in enumerate(row):\n",
    "            if not x:\n",
    "                continue\n",
    "            area.update([(i+dx, j+dy) for dy in [-1, 0 ,1] for dx in [-1, 0, 1]])\n",
    "\n",
    "    return n*n - sum(0 <= i < n and 0 <= j < n for i, j in area)   \n",
    "\n",
    "board = [[1, 1, 1, 1, 1, 1], [1, 1, 1, 1, 1, 1], [1, 1, 1, 1, 1, 1], [1, 1, 1, 1, 1, 1], [1, 1, 1, 1, 1, 1], [1, 1, 1, 1, 1, 1]] \n",
    "solution(board)"
   ]
  }
 ],
 "metadata": {
  "kernelspec": {
   "display_name": "Python 3 (ipykernel)",
   "language": "python",
   "name": "python3"
  },
  "language_info": {
   "codemirror_mode": {
    "name": "ipython",
    "version": 3
   },
   "file_extension": ".py",
   "mimetype": "text/x-python",
   "name": "python",
   "nbconvert_exporter": "python",
   "pygments_lexer": "ipython3",
   "version": "3.9.1"
  }
 },
 "nbformat": 4,
 "nbformat_minor": 4
}
