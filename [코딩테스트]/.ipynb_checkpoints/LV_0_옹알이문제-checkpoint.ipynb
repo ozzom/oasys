{
 "cells": [
  {
   "attachments": {},
   "cell_type": "markdown",
   "metadata": {},
   "source": [
    "입출력 예 설명\n",
    "\n",
    "입출력 예 #1\n",
    "\n",
    "    [\"aya\", \"yee\", \"u\", \"maa\", \"wyeoo\"]에서 발음할 수 있는 것은 \"aya\"뿐입니다. 따라서 1을 return합니다.\n",
    "\n",
    "입출력 예 #2\n",
    "\n",
    "    [\"ayaye\", \"uuuma\", \"ye\", \"yemawoo\", \"ayaa\"]에서 발음할 수 있는 것은 \"aya\" + \"ye\" = \"ayaye\", \"ye\", \"ye\" + \"ma\" + \"woo\" = \"yemawoo\"로 3개입니다. 따라서 3을 return합니다.\n",
    "\n",
    "유의사항\n",
    "\n",
    "    네 가지를 붙여 만들 수 있는 발음 이외에는 어떤 발음도 할 수 없는 것으로 규정합니다. 예를 들어 \"woowo\"는 \"woo\"는 발음할 수 있지만 \"wo\"를 발음할 수 없기 때문에 할 수 없는 발음입니다.\n",
    "\n",
    "\n",
    "babbling \tresult</br>\n",
    "    [\"aya\", \"yee\", \"u\", \"maa\", \"wyeoo\"] \t1</br>\n",
    "    [\"ayaye\", \"uuuma\", \"ye\", \"yemawoo\", \"ayaa\"] \t3</br>"
   ]
  },
  {
   "cell_type": "code",
   "execution_count": 2,
   "metadata": {},
   "outputs": [
    {
     "data": {
      "text/plain": [
       "3"
      ]
     },
     "execution_count": 2,
     "metadata": {},
     "output_type": "execute_result"
    }
   ],
   "source": [
    "def solution(babbling_list):\n",
    "    acount = 0\n",
    "    word_list  = [\"aya\", \"ye\", \"woo\", \"ma\" ]\n",
    "    \n",
    "    for babbling in babbling_list:    \n",
    "        for word in word_list:\n",
    "            babbling = babbling.replace(word,' ').strip()\n",
    "            if len(babbling) == 0 :\n",
    "                acount += 1\n",
    "                break \n",
    "\n",
    "    return acount\n",
    "\n",
    "babbling_list =  [\"ayaye\", \"uuuma\", \"ye\", \"yemawoo\", \"ayaa\"]\n",
    "solution(babbling_list)"
   ]
  },
  {
   "cell_type": "markdown",
   "metadata": {},
   "source": []
  }
 ],
 "metadata": {
  "kernelspec": {
   "display_name": "Python 3 (ipykernel)",
   "language": "python",
   "name": "python3"
  },
  "language_info": {
   "codemirror_mode": {
    "name": "ipython",
    "version": 3
   },
   "file_extension": ".py",
   "mimetype": "text/x-python",
   "name": "python",
   "nbconvert_exporter": "python",
   "pygments_lexer": "ipython3",
   "version": "3.9.1"
  },
  "orig_nbformat": 4
 },
 "nbformat": 4,
 "nbformat_minor": 2
}
