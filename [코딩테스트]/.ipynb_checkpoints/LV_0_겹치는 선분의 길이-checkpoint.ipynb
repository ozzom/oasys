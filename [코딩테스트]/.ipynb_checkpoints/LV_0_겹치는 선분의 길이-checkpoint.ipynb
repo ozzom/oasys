{
 "cells": [
  {
   "cell_type": "markdown",
   "metadata": {},
   "source": [
    "겹치는 선분의 길이\n",
    "\n",
    "문제 설명\n",
    "\n",
    "선분 3개가 평행하게 놓여 있습니다. 세 선분의 시작과 끝 좌표가 [[start, end], [start, end], [start, end]] 형태로 들어있는 2차원 배열 lines가 매개변수로 주어질 때, 두 개 이상의 선분이 겹치는 부분의 길이를 return 하도록 solution 함수를 완성해보세요.\n",
    "\n",
    "lines가 [[0, 2], [-3, -1], [-2, 1]]일 때 그림으로 나타내면 다음과 같습니다.\n",
    "\n",
    "line_2.png\n",
    "\n",
    "선분이 두 개 이상 겹친 곳은 [-2, -1], [0, 1]로 길이 2만큼 겹쳐있습니다.\n",
    "제한사항\n",
    "\n",
    "    lines의 길이 = 3\n",
    "    lines의 원소의 길이 = 2\n",
    "    모든 선분은 길이가 1 이상입니다.\n",
    "    lines의 원소는 [a, b] 형태이며, a, b는 각각 선분의 양 끝점 입니다.\n",
    "        -100 ≤ a < b ≤ 100\n",
    "\n",
    "입출력 예\n",
    "lines \tresult\n",
    "[[0, 1], [2, 5], [3, 9]] \t2\n",
    "[[-1, 1], [1, 3], [3, 9]] \t0\n",
    "[[0, 5], [3, 9], [1, 10]] \t8\n",
    "입출력 예 설명\n",
    "\n",
    "입출력 예 #1\n",
    "\n",
    "    두 번째, 세 번째 선분 [2, 5], [3, 9]가 [3, 5] 구간에 겹쳐있으므로 2를 return 합니다.\n",
    "\n",
    "입출력 예 #2\n",
    "\n",
    "    겹친 선분이 없으므로 0을 return 합니다.\n",
    "\n",
    "입출력 예 #3\n",
    "\n",
    "    첫 번째와 두 번째 선분이 [3, 5] 구간에서 겹칩니다.\n",
    "    첫 번째와 세 번째 선분 [1, 5] 구간에서 겹칩니다.\n",
    "    두 번째와 세 번째 선분 [3, 9] 구간에서 겹칩니다.\n",
    "    따라서 [1, 9] 구간에 두 개 이상의 선분이 겹쳐있으므로, 8을 return 합니다.\n",
    "\n"
   ]
  },
  {
   "cell_type": "markdown",
   "metadata": {},
   "source": []
  },
  {
   "cell_type": "code",
   "execution_count": 84,
   "metadata": {},
   "outputs": [
    {
     "data": {
      "text/plain": [
       "0"
      ]
     },
     "execution_count": 84,
     "metadata": {},
     "output_type": "execute_result"
    }
   ],
   "source": [
    "def solution(lines):\n",
    "    sets = [set(range(min(l), max(l))) for l in lines]\n",
    "    return len(sets[0] & sets[1] | sets[0] & sets[2] | sets[1] & sets[2]) # \n",
    "\n",
    "\n",
    "lines = [[-1, 1], [1, 3], [3, 9]]\n",
    "solution(lines)"
   ]
  },
  {
   "cell_type": "code",
   "execution_count": 87,
   "metadata": {},
   "outputs": [
    {
     "data": {
      "text/plain": [
       "[{-1, 0}, {1, 2}, {3, 4, 5, 6, 7, 8}]"
      ]
     },
     "execution_count": 87,
     "metadata": {},
     "output_type": "execute_result"
    }
   ],
   "source": [
    "sets =[set(range(min(l), max(l))) for l in lines]\n",
    "sets\n",
    "   "
   ]
  },
  {
   "cell_type": "code",
   "execution_count": 88,
   "metadata": {},
   "outputs": [
    {
     "data": {
      "text/plain": [
       "(set(), set(), set())"
      ]
     },
     "execution_count": 88,
     "metadata": {},
     "output_type": "execute_result"
    }
   ],
   "source": [
    "sets[0] & sets[1] , sets[0] & sets[2] , sets[1] & sets[2]"
   ]
  },
  {
   "cell_type": "code",
   "execution_count": 79,
   "metadata": {},
   "outputs": [
    {
     "data": {
      "text/plain": [
       "{1, 2, 3, 4, 5, 6, 7, 8}"
      ]
     },
     "execution_count": 79,
     "metadata": {},
     "output_type": "execute_result"
    }
   ],
   "source": [
    "sets[0] & sets[1] | sets[0] & sets[2] | sets[1] & sets[2]\n"
   ]
  }
 ],
 "metadata": {
  "kernelspec": {
   "display_name": "Python 3 (ipykernel)",
   "language": "python",
   "name": "python3"
  },
  "language_info": {
   "codemirror_mode": {
    "name": "ipython",
    "version": 3
   },
   "file_extension": ".py",
   "mimetype": "text/x-python",
   "name": "python",
   "nbconvert_exporter": "python",
   "pygments_lexer": "ipython3",
   "version": "3.9.1"
  }
 },
 "nbformat": 4,
 "nbformat_minor": 4
}
