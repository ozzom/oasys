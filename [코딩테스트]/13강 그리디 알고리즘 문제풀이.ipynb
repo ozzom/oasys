{
 "cells": [
  {
   "cell_type": "markdown",
   "id": "9a7985fa-00ab-4e23-9a07-9c8b4cf2afb0",
   "metadata": {},
   "source": [
    "#### 그리디(Greedy) 알고리즘은 탐욕법이라고도 하며, 현재 상황에서 지금 당장 좋은 것만 고르는 방법을 의미합니다.\n",
    "\n",
    "#### 일반적인 그리디 알고리즘은 문제를 풀기 위한 최소한의 아이디어를 떠올릴 수 있는 능력을 요구합니다.\n",
    "#### 그리디 알고리즘을 이용하면 매 순간 가장 좋아 보이는 것만 선택하며, 현재의 선택이 나중에 미칠 영향에 대해서는 고려하지 않습니다."
   ]
  },
  {
   "cell_type": "markdown",
   "id": "c26c4f44-e3df-4419-be73-d1437f045949",
   "metadata": {},
   "source": [
    "<문제> 거스름 돈: 문제 해결 아이디어\n",
    "\n",
    "    최적의 해를 빠르게 구하기 위해서는 가장 큰 화폐 단위부터 돈을 거슬러 주면 됨\n",
    "\n",
    "    N원을 거슬러 줘야 할 때 가장 먼저 500원으로 거슬러 줄 수 있을 만큼 거슬러 준다\n",
    "        이후에 100원, 50원, 10원짜리 동전을 차례대로 거슬러 줄 수 있을 만큼 거슬러 주면 됨\n",
    "\n",
    "    N = 1,260일 때의 예시를 확인\n"
   ]
  },
  {
   "cell_type": "code",
   "execution_count": 1,
   "id": "9d26291f-513d-4875-8e5f-1785c912fa1a",
   "metadata": {
    "tags": [],
    "vscode": {
     "languageId": "python"
    }
   },
   "outputs": [],
   "source": [
    "n = 1260\n",
    "total_coint_count = 0\n",
    "change = {}\n",
    "# 큰 단위의 화폐부터 차례대로 확인하기\n",
    "array = [500, 100, 50, 10]\n",
    "\n",
    "for coin in array:\n",
    "    change[coin] = n // coin\n",
    "    n %= coin \n",
    "    total_coint_count += n // coin    "
   ]
  },
  {
   "cell_type": "code",
   "execution_count": 2,
   "id": "b36b5a25-f0e4-49ef-95c8-b16fc73ceb6f",
   "metadata": {
    "vscode": {
     "languageId": "python"
    }
   },
   "outputs": [
    {
     "data": {
      "text/plain": [
       "{500: 2, 100: 2, 50: 1, 10: 1}"
      ]
     },
     "execution_count": 2,
     "metadata": {},
     "output_type": "execute_result"
    }
   ],
   "source": [
    "change"
   ]
  },
  {
   "cell_type": "markdown",
   "id": "441ba4e9-0edf-4ea9-905c-c8c6bf8c981e",
   "metadata": {
    "tags": []
   },
   "source": [
    "#### <span style=\"color:red\"><문제> 1이 될 때까지: 문제 설명(문제가 이해가 안됨)</span>\n",
    "\n",
    "    어떠한 수 N이 1이 될 때까지 다음의 두 과정 중 하나를 반복적으로 선택하여 수행하려고 한다\n",
    "    단, 두번째 연산은 N이 K로 나누어 떨어질 때만 선택할 수 있다\n",
    "        N에서 1을 뺀다\n",
    "        N을 K로 나눈다\n",
    "\n",
    "    예를 들어 N이 17, K가 4라고 가정하면. 이때 1번의 과정을 한 번 수행하면 N은 16이 된다.\n",
    "    이 후에 2번의 과정을 두 번 수행하면 N은 1이 된다. 결과적으로 이 경우 전체 과정을 실행한 횟수는 3이 된다\n",
    "    이는 N을 1로 만드는 최소 횟수이다.\n",
    "\n",
    "    N과 K가 주어질 때 N이 1이 될 때까지 1번 혹은 2번의 과정을 수행해야 하는 최소 횟수를 구하는 프로그램을 작성하라\n",
    "    N ( 1 < N < 100,000)  K( 2 < K < 100,000) \n"
   ]
  },
  {
   "cell_type": "code",
   "execution_count": 12,
   "id": "e61a3cfb-0974-4b33-a448-036e2ab5ced6",
   "metadata": {
    "vscode": {
     "languageId": "python"
    }
   },
   "outputs": [
    {
     "name": "stdout",
     "output_type": "stream",
     "text": [
      " 25 5\n"
     ]
    },
    {
     "name": "stdout",
     "output_type": "stream",
     "text": [
      "2 0\n"
     ]
    }
   ],
   "source": [
    "# 25 5 \n",
    "n, k = map(int, input().split(' '))\n",
    "\n",
    "result = 0 \n",
    "while True:\n",
    "    # n이 K로 나누어 떨더지는 숫자가 될 때 까지 빼기 \n",
    "    target = (n // k) * k \n",
    "    result += (n - target)\n",
    "    n = target \n",
    "    if n < k :\n",
    "        break \n",
    "    result += 1\n",
    "    n //= k \n",
    "    \n",
    "result += (n - 1)\n",
    "print(result, n ) "
   ]
  },
  {
   "cell_type": "markdown",
   "id": "84ee1cb9-3e1e-4851-9d0a-217967bf8b61",
   "metadata": {},
   "source": [
    "#### <문제> 곱하기 혹은 더하기: 문제 설명\n",
    "\n",
    "    각 자리가 숫자(0부터 9)로만 이루어진 문자열 S가 주어졌을 때 왼쪽부터 오른쪽으로 하나씩 모든 숫자를 확인하며\n",
    "    숫자 사이에 '×' 혹은 '+' 연산자를 넣어 결과적으로 만들어질 수 있는 가장 큰 수를 구하는 프로그램을 작성하라\n",
    "    단, +보다 ×를 먼저 계산하는 일반적인 방식과는 달리 모든 연산은 왼쪽에서부터 순서대로 이루어진다고 가정한다\n",
    "    예를 들어 02984라는 문자열로 만들 수 있는 가장 큰 수는 ((((0 + 2) × 9) × 8) × 4) = 576 이다\n",
    "    또한 만들어질 수 있는 가장 큰 수는 항상 20억 이하의 정수가 되도록 입력이 주어진다\n",
    "\n",
    "입력예시 : 02984    출력예시 : 576\n",
    "입력예시 : 567      출력예시 : 210 "
   ]
  },
  {
   "cell_type": "code",
   "execution_count": 3,
   "id": "cd85c750-e3bc-494a-92c7-40431bc4d3b1",
   "metadata": {
    "vscode": {
     "languageId": "python"
    }
   },
   "outputs": [],
   "source": [
    "num = input()"
   ]
  },
  {
   "cell_type": "code",
   "execution_count": 4,
   "id": "2e177eaf-3a35-42cd-8291-7dc60422e70b",
   "metadata": {
    "vscode": {
     "languageId": "python"
    }
   },
   "outputs": [],
   "source": [
    "result = int(num[0])\n",
    "\n",
    "for n in range(1, len(num)):\n",
    "    data = int(num[n])\n",
    "    if data <= 0 or result <= 1:  # 0이 맨 앞에 오는 경우를 대비해서 RESULT를 넣음 \n",
    "        result += data \n",
    "    else:\n",
    "        result *= data"
   ]
  },
  {
   "cell_type": "code",
   "execution_count": 5,
   "id": "ba2b9fe4-90a5-4e29-9555-6fe3d854280c",
   "metadata": {
    "vscode": {
     "languageId": "python"
    }
   },
   "outputs": [
    {
     "data": {
      "text/plain": [
       "441"
      ]
     },
     "execution_count": 5,
     "metadata": {},
     "output_type": "execute_result"
    }
   ],
   "source": [
    "result"
   ]
  },
  {
   "cell_type": "markdown",
   "id": "21680fed-8371-41e7-b153-9f9af2e87d61",
   "metadata": {},
   "source": [
    "#### <문제> 모험가 길드: 문제 설명\n",
    "\n",
    "    한 마을에 모험가가 N명 있다. 모험가 길드에서는 N명의 모험가를 대상으로 '공포도'를 측정했는데,\n",
    "    '공포도'가 높은 모험가는 쉽게 공포를 느껴 위험 상황에서 제대로 대처할 능력이 떨어진다\n",
    "\n",
    "    모험가 길드장인 동빈이는 모험가 그룹을 안전하게 구성하고자 공포도가 X인 모험가는 반드시 X명 이상으로\n",
    "    구성한 모험가 그룹에 참여해야 여행을 떠날 수 있도록 규정했다\n",
    "\n",
    "    동빈이는 최대 몇 개의 모험가 그룹을 만들 수 있는지 궁금하다. N명의 모험가에 대한 정보가 주어졌을때,\n",
    "    여행을 떠날 수 있는 그룹 수의 최댓값을 구하는 프로그램을 작성하라\n",
    "\n",
    "    예를 들어 N = 5이고, 각 모험가의 공포도가 다음과 같다고 가정한다\n",
    "\n",
    "    2 3 1 2 2 \n",
    "\n",
    "    이 경우 그룹 1에 공포도가 1, 2, 3인 모험가를 한 명씩 넣고, 그룹 2에 공포도가 2인 남은 두명을 넣게\n",
    "    되면 총 2개의 그룹을 만들 수 있다\n",
    "\n",
    "    또한 몇 명의 모험가는 마을에 그대로 남아 있어도 되기 때문에, 모든 모험가를 특정한 그룹에 넣을 필요는 없다"
   ]
  },
  {
   "cell_type": "code",
   "execution_count": 8,
   "id": "0bb19952-69bf-491f-a0f6-f10053b78373",
   "metadata": {
    "vscode": {
     "languageId": "python"
    }
   },
   "outputs": [],
   "source": [
    "# 입력조건 \n",
    "# 1. 첫째 줄에 모험가의 수 N이 주어집니다( 1< n < 100000)\n",
    "# 2. 둘째 줄에 각 모험가의 공포도의 값을 N 이하의 자연수로 주어지며, 각 자연수는 공백으로 구분\n",
    "# 그룹핑 조건 공포도가 X인 모험가는 반드시 X명 이상으로구성한 모험가 그룹에 참여해야 여행을 떠날 수 있도록 규정\n",
    "\n",
    "# 모험가 수 : 5\n",
    "# 공포도 : 2 3 1 2 2 \n",
    "\n",
    "# 출력 조건 \n",
    "# 여행을 떠날 수 있는 그룹 수의 최대값 출력 \n",
    "# 출력 예시 2 \n",
    "\n",
    "explore_num    = int(input())\n",
    "fear_level     = list(map(int, input().split(' ')))\n",
    "fear_level.sort()"
   ]
  },
  {
   "cell_type": "code",
   "execution_count": 9,
   "id": "48a44771-4e56-4982-a5db-aa0aaf6fafeb",
   "metadata": {
    "vscode": {
     "languageId": "python"
    }
   },
   "outputs": [
    {
     "data": {
      "text/plain": [
       "2"
      ]
     },
     "execution_count": 9,
     "metadata": {},
     "output_type": "execute_result"
    }
   ],
   "source": [
    "result = 0 # 총 그룹의 수\n",
    "count = 0 # 현재 그룹에 포함된 모험가의 수\n",
    "\n",
    "for i in fear_level: # 공포도를 낮은 것 부터 하나씩 확인하며\n",
    "    count += 1 # 현재 그룹에 해당 모험가를 포함시키기\n",
    "    # print('ⓐ', i, count, result) \n",
    "    if count >= i: # 현재 그룹에 포함된 모험가의 수가 현재의 공포도 이상이라면, 그룹 결성\n",
    "        result += 1 # 총 그룹의 수 증가시키기\n",
    "        count = 0 # 현재 그룹에 포함된 모험가의 수 초기화\n",
    "        # print('ⓑ', i, count, result)         \n",
    "result        "
   ]
  },
  {
   "cell_type": "markdown",
   "id": "3014ddb0-e251-4f91-99d4-679870169514",
   "metadata": {},
   "source": [
    "<문제> 상하좌우: 문제 설명\n",
    "\n",
    "    여행가 A는 N × N 크기의 정사각형 공간 위에 서 있다. 이 공간은 1 × 1 크기의 정사각형으로 나누어져 있다.\n",
    "    가장 왼쪽 위 좌표는 (1, 1)이며, 가장 오른쪽 아래 좌표는 (N, N)에 해당한다.\n",
    "    여행가 A는 상, 하, 좌, 우 방향으로 이동할 수 있으며, 시작 좌표는 항상 (1, 1)이다. 우리 앞에는 여행가 A가\n",
    "    이동할 계획이 적힌 계획서가 놓여 있다\n",
    "\n",
    "    계획서에는 하나의 줄에 띄어쓰기를 기준으로 L, R, U, D 중 하나의 문자가 반복적으로 적혀있다.\n",
    "    각 문자의 의미는 다음과 같다\n",
    "        L: 왼쪽으로 한 칸 이동\n",
    "        R: 오른쪽으로 한 칸 이동\n",
    "        U: 위로 한 칸 이동\n",
    "        D: 아래로 한 칸 이동\n",
    "\n",
    "    이때 여행가 A가 N × N 크기의 정사각형 공간을 벗어나는 움직임은 무시된다\n",
    "    예를 들어 (1, 1)의 위치에서 L 혹은 U를 만나면 무시된다\n",
    "    다음은 N = 5인 지도와 계획이다\n"
   ]
  },
  {
   "cell_type": "code",
   "execution_count": 98,
   "id": "6f5202d0-eb71-4cb5-91ba-491b17316505",
   "metadata": {
    "vscode": {
     "languageId": "python"
    }
   },
   "outputs": [
    {
     "name": "stdout",
     "output_type": "stream",
     "text": [
      " 5\n",
      " R R R U D D\n"
     ]
    }
   ],
   "source": [
    "n = int(input())\n",
    "move = list(input().split())"
   ]
  },
  {
   "cell_type": "code",
   "execution_count": 6,
   "id": "730018a3-f3d5-41dd-af6d-d8ef6c761789",
   "metadata": {
    "vscode": {
     "languageId": "python"
    }
   },
   "outputs": [],
   "source": [
    "x, y = (1, 1) \n",
    "\n",
    "# 동, 북, 서, 남\n",
    "dx = [0, -1, 0, 1]\n",
    "dy = [1, 0, -1, 0]\n",
    "\n",
    "\n",
    "# L, R, U, D에 따른 이동 방향\n",
    "dx = [0, 0, -1, 1]\n",
    "dy = [-1, 1, 0, 0]\n",
    "move_types = ['L', 'R', 'U', 'D']"
   ]
  },
  {
   "cell_type": "code",
   "execution_count": null,
   "id": "8207166f",
   "metadata": {
    "vscode": {
     "languageId": "python"
    }
   },
   "outputs": [],
   "source": []
  }
 ],
 "metadata": {
  "kernelspec": {
   "display_name": "Python 3 (ipykernel)",
   "language": "python",
   "name": "python3"
  },
  "vscode": {
   "interpreter": {
    "hash": "916dbcbb3f70747c44a77c7bcd40155683ae19c65e1c03b4aa3499c5328201f1"
   }
  }
 },
 "nbformat": 4,
 "nbformat_minor": 5
}
