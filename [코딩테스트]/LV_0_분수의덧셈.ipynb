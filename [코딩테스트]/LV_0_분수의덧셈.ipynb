{
 "cells": [
  {
   "attachments": {},
   "cell_type": "markdown",
   "metadata": {},
   "source": [
    "문제 설명\n",
    "\n",
    "첫 번째 분수의 분자와 분모를 뜻하는 numer1, denom1, 두 번째 분수의 분자와 분모를 뜻하는 numer2, denom2가 매개변수로 주어집니다. 두 분수를 더한 값을 기약 분수로 나타냈을 때 분자와 분모를 순서대로 담은 배열을 return 하도록 solution 함수를 완성해보세요.\n",
    "\n",
    "제한사항\n",
    "\n",
    "    0 <numer1, denom1, numer2, denom2 < 1,000\n",
    "\n",
    "입출력 예\n",
    "\n",
    "    numer1 \tdenom1 \tnumer2 \tdenom2 \tresult  \n",
    "    1 \t2 \t3 \t4 \t[5, 4]\n",
    "    9 \t2 \t1 \t3 \t[29, 6]\n",
    "\n",
    "입출력 예 설명\n",
    "\n",
    "입출력 예 #1\n",
    "\n",
    "    1 / 2 + 3 / 4 = 5 / 4입니다. 따라서 [5, 4]를 return 합니다.\n",
    "\n",
    "입출력 예 #2\n",
    "\n",
    "    9 / 2 + 1 / 3 = 29 / 6입니다. 따라서 [29, 6]을 return 합니다.\n"
   ]
  },
  {
   "cell_type": "code",
   "execution_count": 260,
   "metadata": {},
   "outputs": [
    {
     "data": {
      "text/plain": [
       "[31.0, 35.0]"
      ]
     },
     "execution_count": 260,
     "metadata": {},
     "output_type": "execute_result"
    }
   ],
   "source": [
    "# 내가 만든 답안인데.. 런타임 에러나오고..... 답이 틀렸다고하는데... 테스트 케이스를 모르겠음. \n",
    "def solution1(numer1, denom1, numer2, denom2):\n",
    "    answer = []\n",
    "    \n",
    "    # 1. 두 분수의 합 계산\n",
    "    nums = numer1 * denom2 + numer2 * denom1\n",
    "    denoms = denom1 * denom2\n",
    "\n",
    "    m1 = set()\n",
    "    m2 = set()\n",
    "\n",
    "    measure = 1 \n",
    "    \n",
    "    # 2. 분자 분모 소인수 분해 후, 가장 큰 값 가져오기 \n",
    "    m1.update([i for i in range(1, nums) if nums % i ==0 ])\n",
    "    m2.update([j for j in range(1, denoms) if denoms % j ==0 ])\n",
    "    measure = max(m1&m2)\n",
    "    \n",
    "    # 3. 나누기. \n",
    "    answer = [nums/measure, denoms/measure]  \n",
    "    \n",
    "    return answer\n",
    "\n",
    "[numer1, denom1, numer2, denom2] = list(map(int, input().split(' ')))\n",
    "\n",
    "solution1(numer1, denom1, numer2, denom2)"
   ]
  },
  {
   "cell_type": "code",
   "execution_count": 259,
   "metadata": {},
   "outputs": [
    {
     "data": {
      "text/plain": [
       "[31.0, 35.0]"
      ]
     },
     "execution_count": 259,
     "metadata": {},
     "output_type": "execute_result"
    }
   ],
   "source": [
    "#인터넷 참고 소스\n",
    "def solution2(numer1, denom1, numer2, denom2):    \n",
    "    # 1. 두 분수의 합 계산\n",
    "    boonmo = denom1 * denom2\n",
    "    boonja = denom1 * numer2 + denom2 * numer1\n",
    "    \n",
    "    # 2. 최대공약수 계산\n",
    "    start = max(boonmo, boonja)\n",
    "\n",
    "    gcd_value = 1\n",
    "    \n",
    "    for num in range(start, 0, -1):\n",
    "        if boonmo % num == 0 and boonja % num == 0:\n",
    "            gcd_value = num\n",
    "            break\n",
    "    \n",
    "    # 3. gcd 로 나눈 값을 answer에 담기\n",
    "    answer = [boonja / gcd_value, boonmo / gcd_value]\n",
    "    return answer\n",
    "\n",
    "[numer1, denom1, numer2, denom2] = list(map(int, input().split(' ')))\n",
    "solution2(numer1, denom1, numer2, denom2)"
   ]
  },
  {
   "cell_type": "code",
   "execution_count": 203,
   "metadata": {},
   "outputs": [
    {
     "data": {
      "text/plain": [
       "[1, 2, 3, 6]"
      ]
     },
     "execution_count": 203,
     "metadata": {},
     "output_type": "execute_result"
    }
   ],
   "source": [
    "def getMyDivisor(n):\n",
    "\n",
    "    divisorsList = []\n",
    "    # '임의의 자연수 N의 약수들 중에서 두 약수의 곱이 N이 되는 약수 A와 약수 B는 반드시 존재한다'는 \n",
    "    # 규칙이 존재하기 때문에, 자연수 N의 제곱근까지의 약수를 구하면 그 짝이 되는 약수는 자동으로 구해진다. (i, n//i)\n",
    "    for i in range(1, int(n**(1/2)) + 1): \n",
    "        if (n % i == 0):\n",
    "            divisorsList.append(i) \n",
    "            if ( (i**2) != n) : \n",
    "                divisorsList.append(n // i)\n",
    "\n",
    "    divisorsList.sort()\n",
    "    \n",
    "    return divisorsList\n",
    "n = 6\n",
    "getMyDivisor(n)"
   ]
  },
  {
   "cell_type": "code",
   "execution_count": 253,
   "metadata": {},
   "outputs": [
    {
     "data": {
      "text/plain": [
       "[9.0, 3.0]"
      ]
     },
     "execution_count": 253,
     "metadata": {},
     "output_type": "execute_result"
    }
   ],
   "source": [
    "# nums = numer1 * denom2 + numer2 * denom1\n",
    "# denoms = denom1 * denom2\n",
    "\n",
    "nums = 27\n",
    "denoms = 9\n",
    "\n",
    "m1 = set()\n",
    "m2 = set()\n",
    "\n",
    "measure = 1 \n",
    "\n",
    "# 2. 분자 분모 소인수 분해 후, 가장 큰 값 가져오기 \n",
    "m1.update([i for i in range(1, nums) if nums % i ==0 ])\n",
    "m2.update([j for j in range(1, denoms) if denoms % j ==0 ])\n",
    "measure = max(m1&m2)\n",
    "\n",
    "# 3. 나누기. \n",
    "answer = [nums/measure, denoms/measure]  \n",
    "answer"
   ]
  }
 ],
 "metadata": {
  "kernelspec": {
   "display_name": "Python 3 (ipykernel)",
   "language": "python",
   "name": "python3"
  },
  "language_info": {
   "codemirror_mode": {
    "name": "ipython",
    "version": 3
   },
   "file_extension": ".py",
   "mimetype": "text/x-python",
   "name": "python",
   "nbconvert_exporter": "python",
   "pygments_lexer": "ipython3",
   "version": "3.9.1"
  },
  "orig_nbformat": 4
 },
 "nbformat": 4,
 "nbformat_minor": 2
}
