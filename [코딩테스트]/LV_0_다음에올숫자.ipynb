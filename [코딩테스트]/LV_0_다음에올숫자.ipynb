{
 "cells": [
  {
   "cell_type": "markdown",
   "metadata": {},
   "source": [
    "<br>문제 설명</br>\n",
    "등차수열 혹은 등비수열 common이 매개변수로 주어질 때, 마지막 원소 다음으로 올 숫자를 return 하도록 solution 함수를 완성해보세요.\n",
    "\n",
    "<br>제한사항</br>\n",
    "\n",
    "<br>2 < common의 길이 < 1,000</br>\n",
    "<br>-1,000 < common의 원소 < 2,000</br>\n",
    "<br>common의 원소는 모두 정수입니다.</br>\n",
    "<br>등차수열 혹은 등비수열이 아닌 경우는 없습니다.</br>\n",
    "<br>등비수열인 경우 공비는 0이 아닌 정수입니다.</br>\n",
    "<br>입출력 예</br>\n",
    "<br>common\tresult</br>\n",
    "<br>[1, 2, 3, 4]\t5</br>\n",
    "<br>[2, 4, 8]\t16</br>\n",
    "<br>입출력 예 설명</br>\n",
    "<br>입출력 예 #1</br>\n",
    "<br>[1, 2, 3, 4]는 공차가 1인 등차수열이므로 다음에 올 수는 5이다.</br>\n",
    "\n",
    "<br>입출력 예 #2</br>\n",
    "<br>[2, 4, 8]은 공비가 2인 등비수열이므로 다음에 올 수는 16이다.</br>"
   ]
  },
  {
   "cell_type": "code",
   "execution_count": 4,
   "metadata": {
    "vscode": {
     "languageId": "python"
    }
   },
   "outputs": [
    {
     "data": {
      "text/plain": [
       "8"
      ]
     },
     "execution_count": 4,
     "metadata": {},
     "output_type": "execute_result"
    }
   ],
   "source": [
    "def solution(common):\n",
    "    d = []\n",
    "    for i in range(0, len(common)-1) :\n",
    "        d.append(common[i+1]-common[i])\n",
    "    \n",
    "    if d[1]- d[0] == 0 : \n",
    "        ret = common[len(common)-1] + d[0]\n",
    "    else:\n",
    "        ret = common[len(common)-1] * d[1]/d[0]\n",
    "\n",
    "    return ret\n",
    "        \n",
    "common = [2, 4, 6]\n",
    "solution(common)"
   ]
  },
  {
   "cell_type": "code",
   "execution_count": null,
   "metadata": {
    "vscode": {
     "languageId": "python"
    }
   },
   "outputs": [],
   "source": []
  }
 ],
 "metadata": {
  "kernelspec": {
   "display_name": "Python 3 (ipykernel)",
   "language": "python",
   "name": "python3"
  }
 },
 "nbformat": 4,
 "nbformat_minor": 4
}
