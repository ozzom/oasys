{
 "cells": [
  {
   "cell_type": "markdown",
   "metadata": {},
   "source": [
    "연속된 수의 합\n",
    "\n",
    "<br>문제 설명</br>\n",
    "연속된 세 개의 정수를 더해 12가 되는 경우는 3, 4, 5입니다. 두 정수 num과 total이 주어집니다. 연속된 수 num개를 더한 값이 total이 될 때, 정수 배열을 오름차순으로 담아 return하도록 solution함수를 완성해보세요.\n",
    "\n",
    "<br>제한사항</br>\n",
    "<br>1 ≤ num ≤ 100</br>\n",
    "<br>0 ≤ total ≤ 1000</br>\n",
    "<br>num개의 연속된 수를 더하여 total이 될 수 없는 테스트 케이스는 없습니다.</br>\n",
    "\n",
    "<br>입출력 예</br>\n",
    "<br>num\t    total\tresult</br>\n",
    "<br>3\t    12\t    [3, 4, 5]</br>\n",
    "<br>5\t    15\t    [1, 2, 3, 4, 5]</br>\n",
    "<br>4\t    14\t    [2, 3, 4, 5]</br>\n",
    "<br>5\t    5\t    [-1, 0, 1, 2, 3]</br>\n",
    "\n",
    "<br>입출력 예 설명</br>\n",
    "<br>입출력 예 #1\n",
    "num = 3, total = 12인 경우 [3, 4, 5]를 return합니다.\n",
    "\n",
    "<br>입출력 예 #2</br>\n",
    "num = 5, total = 15인 경우 [1, 2, 3, 4, 5]를 return합니다.\n",
    "\n",
    "<br>입출력 예 #3</br>\n",
    "4개의 연속된 수를 더해 14가 되는 경우는 2, 3, 4, 5입니다.\n",
    "\n",
    "<br>입출력 예 #4</br>\n",
    "설명 생략"
   ]
  },
  {
   "cell_type": "code",
   "execution_count": 99,
   "metadata": {
    "vscode": {
     "languageId": "python"
    }
   },
   "outputs": [
    {
     "data": {
      "text/plain": [
       "[3, 4, 5]"
      ]
     },
     "execution_count": 99,
     "metadata": {},
     "output_type": "execute_result"
    }
   ],
   "source": [
    "def solution(num, total):\n",
    "    ret = [] \n",
    "\n",
    "    check = num * (num + 1) // 2  # 거듭제곱의 합 \n",
    "    start = (total - check) // num + 1\n",
    "\n",
    "    for i in range(0, num):\n",
    "        ret.append(start + i)\n",
    "        \n",
    "    return ret\n",
    "\n",
    "\n",
    "num, total = map(int, input().split(' '))\n",
    "solution(num, total)"
   ]
  },
  {
   "cell_type": "code",
   "execution_count": 100,
   "metadata": {
    "vscode": {
     "languageId": "python"
    }
   },
   "outputs": [
    {
     "data": {
      "text/plain": [
       "[3, 4, 5]"
      ]
     },
     "execution_count": 100,
     "metadata": {},
     "output_type": "execute_result"
    }
   ],
   "source": [
    "def solution(num, total):\n",
    "    answer = []\n",
    "    var = sum(range(num+1))\n",
    "    diff = total - var\n",
    "    start_num = diff//num\n",
    "    answer = [i+1+start_num for i in range(num)]\n",
    "    return answer\n",
    "    \n",
    "num, total = map(int, input().split(' '))\n",
    "solution(num, total)   "
   ]
  },
  {
   "cell_type": "markdown",
   "metadata": {},
   "source": []
  },
  {
   "cell_type": "markdown",
   "metadata": {},
   "source": []
  }
 ],
 "metadata": {
  "kernelspec": {
   "display_name": "Python 3 (ipykernel)",
   "language": "python",
   "name": "python3"
  },
  "language_info": {
   "codemirror_mode": {
    "name": "ipython",
    "version": 3
   },
   "file_extension": ".py",
   "mimetype": "text/x-python",
   "name": "python",
   "nbconvert_exporter": "python",
   "pygments_lexer": "ipython3",
   "version": "3.9.1"
  }
 },
 "nbformat": 4,
 "nbformat_minor": 4
}
