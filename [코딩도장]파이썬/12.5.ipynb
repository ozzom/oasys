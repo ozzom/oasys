{
 "cells": [
  {
   "cell_type": "markdown",
   "id": "c49a4292-bbff-4e33-9c97-d613c42024b2",
   "metadata": {},
   "source": [
    "# 12.5 딕셔너리 게임 능력치 저장하기 \n",
    "\n",
    "input1 = 'health health_green mana mana_regen\"\n",
    "\n",
    "input2 = \"575.6 1.7 338.8 1.63\"\n",
    "\n",
    "딕셔너리를 생성한 뒤, 출력하는 프로그램 작성, input().split()의 결과를 변수 한개에 저장하면 리스트로 저장됩니다. "
   ]
  },
  {
   "cell_type": "code",
   "execution_count": 2,
   "id": "70e00b1d-cfbc-45c3-9b28-5d2ca6175a62",
   "metadata": {},
   "outputs": [],
   "source": [
    "input1 = \"health health_green mana mana_regen\"\n",
    "input2 = \"575.6 1.7 338.8 1.63\""
   ]
  },
  {
   "cell_type": "markdown",
   "id": "b48a44bd-47f2-4596-99f9-438365704aa2",
   "metadata": {},
   "source": [
    "map(function, iterable) \n",
    "첫 번째 매개변수로는 함수가 오고 두 번째 매개변수로는 반복 가능한 자료형(리스트, 튜플 등)이 옵니다\n",
    "함수는 def로 선언한 함수에 대해서도 같은 역할 수행"
   ]
  },
  {
   "cell_type": "code",
   "execution_count": 50,
   "id": "e5ef92d0-9c6a-4732-ac3e-da03ad86c775",
   "metadata": {},
   "outputs": [],
   "source": [
    "list1 = input1.split(' ')\n",
    "list2 = list(map(float, input2.split(' ')))  "
   ]
  },
  {
   "cell_type": "code",
   "execution_count": 49,
   "id": "9bd25cba-72a6-4b2f-b1d6-8d2a1496fa43",
   "metadata": {},
   "outputs": [
    {
     "data": {
      "text/plain": [
       "{'health': 575.6, 'health_green': 1.7, 'mana': 338.8, 'mana_regen': 1.63}"
      ]
     },
     "execution_count": 49,
     "metadata": {},
     "output_type": "execute_result"
    }
   ],
   "source": [
    "#1 \n",
    "{key:value for key, value in zip(list1, list2)}"
   ]
  },
  {
   "cell_type": "code",
   "execution_count": 48,
   "id": "17273845-492d-4978-9e0d-ba30e184e9de",
   "metadata": {},
   "outputs": [
    {
     "data": {
      "text/plain": [
       "{'health': 575.6, 'health_green': 1.7, 'mana': 338.8, 'mana_regen': 1.63}"
      ]
     },
     "execution_count": 48,
     "metadata": {},
     "output_type": "execute_result"
    }
   ],
   "source": [
    "#2 \n",
    "dict(zip(list1, list2))"
   ]
  },
  {
   "cell_type": "code",
   "execution_count": null,
   "id": "0ff71a53-7ab8-437f-a0e6-cbea7919bbec",
   "metadata": {},
   "outputs": [],
   "source": []
  }
 ],
 "metadata": {
  "kernelspec": {
   "display_name": "Python 3 (ipykernel)",
   "language": "python",
   "name": "python3"
  },
  "language_info": {
   "codemirror_mode": {
    "name": "ipython",
    "version": 3
   },
   "file_extension": ".py",
   "mimetype": "text/x-python",
   "name": "python",
   "nbconvert_exporter": "python",
   "pygments_lexer": "ipython3",
   "version": "3.9.1"
  }
 },
 "nbformat": 4,
 "nbformat_minor": 5
}
