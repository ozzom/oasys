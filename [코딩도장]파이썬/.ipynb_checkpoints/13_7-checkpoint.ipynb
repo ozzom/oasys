{
 "cells": [
  {
   "cell_type": "markdown",
   "id": "55fe3600-4a57-4917-adff-357de97f9a1b",
   "metadata": {},
   "source": [
    "13.7 온라인 할인 쿠폰 시스템 만들기 \n",
    "\n",
    "표준 입력으로 가격(정수)과 쿠폰 이름이 각 줄에 입력, \n",
    "Cach3000 은 3000원\n",
    "Cache5000 은 5000 원 할인 \n",
    "\n",
    "쿠폰에 따라 할인된 가격을 출력하는 프로그램 "
   ]
  },
  {
   "cell_type": "code",
   "execution_count": 3,
   "id": "b828610e-faef-4b71-8a9f-733857a9b74d",
   "metadata": {},
   "outputs": [],
   "source": [
    "cash = '72000'\n",
    "coupon = 'Cash5000'"
   ]
  },
  {
   "cell_type": "code",
   "execution_count": 6,
   "id": "5a523027-66b1-4932-a094-3f098e4419a2",
   "metadata": {},
   "outputs": [
    {
     "name": "stdout",
     "output_type": "stream",
     "text": [
      "67000.0\n"
     ]
    }
   ],
   "source": [
    "price = float(cash)\n",
    "dc = float(coupon.split('Cash')[1])\n",
    "print(price-dc)"
   ]
  },
  {
   "cell_type": "code",
   "execution_count": 7,
   "id": "0c83f9bf-d819-4778-bc68-43329d9b7e74",
   "metadata": {},
   "outputs": [
    {
     "data": {
      "text/plain": [
       "['', '5000']"
      ]
     },
     "execution_count": 7,
     "metadata": {},
     "output_type": "execute_result"
    }
   ],
   "source": [
    "coupon.split('Cash')"
   ]
  },
  {
   "cell_type": "code",
   "execution_count": null,
   "id": "14eec048-f791-4cfe-80ea-e6e53bd019a0",
   "metadata": {},
   "outputs": [],
   "source": []
  },
  {
   "cell_type": "code",
   "execution_count": null,
   "id": "b228415c-8a10-4f52-bfd7-fe3745176eff",
   "metadata": {},
   "outputs": [],
   "source": []
  }
 ],
 "metadata": {
  "kernelspec": {
   "display_name": "Python 3 (ipykernel)",
   "language": "python",
   "name": "python3"
  },
  "language_info": {
   "codemirror_mode": {
    "name": "ipython",
    "version": 3
   },
   "file_extension": ".py",
   "mimetype": "text/x-python",
   "name": "python",
   "nbconvert_exporter": "python",
   "pygments_lexer": "ipython3",
   "version": "3.9.1"
  }
 },
 "nbformat": 4,
 "nbformat_minor": 5
}
