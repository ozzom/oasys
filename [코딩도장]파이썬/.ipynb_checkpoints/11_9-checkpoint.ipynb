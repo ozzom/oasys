{
 "cells": [
  {
   "cell_type": "markdown",
   "id": "c5bd8bc9-fa0a-4d4d-a7b1-fe93a5eb0d88",
   "metadata": {},
   "source": [
    "string1 = 'abcdefg' \n",
    "\n",
    "string2 = 'ABCDEFG'\n",
    "\n",
    "sring_result = 'aAbBcCdD...' \n",
    "\n",
    "\n",
    "1. 두개의 문자열, 첫번째 문자열 인덱스가 홀수인 문자, 두번째 문자열 인덱스가 짝수인 문자열을 연결하여 출력하는 프로그램 만들기 \n",
    "연결순서는 첫 번째 문자열, 두번 째 문자열 수, 0은 짝수로 처리  "
   ]
  },
  {
   "cell_type": "code",
   "execution_count": 31,
   "id": "3a785c24-5e10-42b4-acba-1caec558ea61",
   "metadata": {},
   "outputs": [],
   "source": [
    "string1 = 'ABCDEFGHIJKLMNOPQRSTUVWXYZ' \n",
    "string2 = 'abcdefghijklmnopqrstuvwxyz'"
   ]
  },
  {
   "cell_type": "code",
   "execution_count": 34,
   "id": "f8ea8a3a-e80c-4492-a722-4b439c1f3bf2",
   "metadata": {},
   "outputs": [
    {
     "data": {
      "text/plain": [
       "'ACEGIKMOQSUWYbdfhjlnprtvxz'"
      ]
     },
     "execution_count": 34,
     "metadata": {},
     "output_type": "execute_result"
    }
   ],
   "source": [
    "string1[::2] + string2[1::2]"
   ]
  },
  {
   "cell_type": "code",
   "execution_count": 40,
   "id": "7bd21c04-2642-47b6-8714-d8500ed5aa25",
   "metadata": {},
   "outputs": [
    {
     "data": {
      "text/plain": [
       "['A', 'C', 'E', 'G', 'I', 'K', 'M', 'O', 'Q', 'S', 'U', 'W', 'Y']"
      ]
     },
     "execution_count": 40,
     "metadata": {},
     "output_type": "execute_result"
    }
   ],
   "source": [
    "ret = ''\n",
    "\n",
    "for idx, ch1 in enumerate(string1):\n",
    "    try: \n",
    "        if idx%2 != 1:\n",
    "            ret += (ch1 + string2[idx+1])\n",
    "    except IndexError:\n",
    "        break; "
   ]
  },
  {
   "cell_type": "code",
   "execution_count": 45,
   "id": "f15b925e-ce04-4ed0-a5e3-93a2293c2540",
   "metadata": {},
   "outputs": [
    {
     "ename": "SyntaxError",
     "evalue": "invalid syntax (2839530695.py, line 1)",
     "output_type": "error",
     "traceback": [
      "\u001b[0;36m  Cell \u001b[0;32mIn [47], line 1\u001b[0;36m\u001b[0m\n\u001b[0;31m    (ret += elem[0]) if idx%2 != 1 else (ret += elem[1]) for idx, elem in enumerate(zip(string1, string2))\u001b[0m\n\u001b[0m         ^\u001b[0m\n\u001b[0;31mSyntaxError\u001b[0m\u001b[0;31m:\u001b[0m invalid syntax\n"
     ]
    }
   ],
   "source": [
    "for idx, elem in enumerate(zip(string1, string2))\n",
    "    if idx%2 != 1:\n",
    "        ret += elem[0]\n",
    "    else: \n",
    "        ret += elem[1]"
   ]
  },
  {
   "cell_type": "code",
   "execution_count": 46,
   "id": "983d3ed9-089a-4d68-9152-3c89cc7e6a7d",
   "metadata": {},
   "outputs": [
    {
     "data": {
      "text/plain": [
       "'AbCdEfGhIjKlMnOpQrStUvWxYz'"
      ]
     },
     "execution_count": 46,
     "metadata": {},
     "output_type": "execute_result"
    }
   ],
   "source": [
    "ret"
   ]
  },
  {
   "cell_type": "code",
   "execution_count": null,
   "id": "6b8af1b1-23be-4c1f-b162-9b9c1a2137df",
   "metadata": {},
   "outputs": [],
   "source": []
  }
 ],
 "metadata": {
  "kernelspec": {
   "display_name": "Python 3 (ipykernel)",
   "language": "python",
   "name": "python3"
  },
  "language_info": {
   "codemirror_mode": {
    "name": "ipython",
    "version": 3
   },
   "file_extension": ".py",
   "mimetype": "text/x-python",
   "name": "python",
   "nbconvert_exporter": "python",
   "pygments_lexer": "ipython3",
   "version": "3.9.1"
  }
 },
 "nbformat": 4,
 "nbformat_minor": 5
}
