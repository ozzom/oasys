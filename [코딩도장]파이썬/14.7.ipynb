{
 "cells": [
  {
   "cell_type": "markdown",
   "id": "143cff41-93c0-468a-82bd-86a126846db9",
   "metadata": {},
   "source": [
    "국어, 영어, 수학, 과학 점수 입력, 네 과목 평균 점수 80점 이상 일 때 합격. \n",
    "점수는 0~100점 까지만 입력 받을 수 있으며, 범위를 벗어나며, 잘못된 점수를 출력하고, 합격, 불합격 여부는 출력하지 않아야 합니다. "
   ]
  },
  {
   "cell_type": "code",
   "execution_count": 24,
   "id": "6c0be922-469b-4a5b-9f9f-93e7e52008b7",
   "metadata": {},
   "outputs": [
    {
     "name": "stdin",
     "output_type": "stream",
     "text": [
      " 99 90 02 102\n"
     ]
    }
   ],
   "source": [
    "values = list(map(int, input().split(' ')))"
   ]
  },
  {
   "cell_type": "code",
   "execution_count": 25,
   "id": "c65f9964-bcf4-4bf9-8bd2-28ca4cfe8e14",
   "metadata": {},
   "outputs": [
    {
     "name": "stdout",
     "output_type": "stream",
     "text": [
      "잘못된 점수입력: 102\n"
     ]
    }
   ],
   "source": [
    "try:\n",
    "    for value in values :\n",
    "        if value > 100:\n",
    "            raise Exception(value) \n",
    "\n",
    "    if sum(key_value)/len(key_value) >= 80:\n",
    "        print('합격\\n')\n",
    "    else:\n",
    "        print('불합격\\n')\n",
    "        \n",
    "except Exception as e:\n",
    "    print('잘못된 점수입력:',e) "
   ]
  },
  {
   "cell_type": "code",
   "execution_count": null,
   "id": "5fd03d90-5822-477e-a46f-d013376ede7a",
   "metadata": {},
   "outputs": [],
   "source": []
  }
 ],
 "metadata": {
  "kernelspec": {
   "display_name": "Python 3 (ipykernel)",
   "language": "python",
   "name": "python3"
  },
  "language_info": {
   "codemirror_mode": {
    "name": "ipython",
    "version": 3
   },
   "file_extension": ".py",
   "mimetype": "text/x-python",
   "name": "python",
   "nbconvert_exporter": "python",
   "pygments_lexer": "ipython3",
   "version": "3.9.1"
  }
 },
 "nbformat": 4,
 "nbformat_minor": 5
}
