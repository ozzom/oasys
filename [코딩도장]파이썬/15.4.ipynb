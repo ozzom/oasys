{
 "cells": [
  {
   "cell_type": "markdown",
   "id": "7b55bda4-5d92-4adb-a252-aef60caccdb5",
   "metadata": {},
   "source": [
    "15.4 교통카드 시스템 \n",
    "표준입력으로 만 나이가 입력됩니다. (입력 값은 7이상 입력됨). 교통카드 시스템에서 시내버스 요금은 다음과 같으며 각 나이에 요금을 차감한 뒤 잔액이출력되게 만드세요. (if, elif 사용)\n",
    "현재 교통카드에는 9000원이 있음. \n",
    "\n",
    "어린이 (초등학새, 만 7세 이상 12세 이하) : 650원\n",
    "청소년 (중/고등학생, 만 13세 이상 18세 이하) : 1050\n",
    "어른(일반, 만 19세 이상) : 1250"
   ]
  },
  {
   "cell_type": "code",
   "execution_count": 28,
   "id": "94d0143d-2e65-4c2e-86b3-b0cc05ebdf36",
   "metadata": {},
   "outputs": [
    {
     "name": "stdin",
     "output_type": "stream",
     "text": [
      " 19\n"
     ]
    }
   ],
   "source": [
    "age = int(input())\n",
    "balance  = 9000"
   ]
  },
  {
   "cell_type": "code",
   "execution_count": 31,
   "id": "41f84419-383c-4aaa-b0b9-fa5607db903c",
   "metadata": {},
   "outputs": [],
   "source": [
    "if age > 7 and age < 13:\n",
    "    cost = 650\n",
    "elif age > 13 and age < 19 :\n",
    "    cost = 1050\n",
    "else:\n",
    "    cost = 1025\n",
    "    \n",
    "balance -= cost       "
   ]
  },
  {
   "cell_type": "code",
   "execution_count": 32,
   "id": "8319832e-d7d4-46d7-bdb0-ba224d612524",
   "metadata": {},
   "outputs": [
    {
     "name": "stdout",
     "output_type": "stream",
     "text": [
      "6950\n"
     ]
    }
   ],
   "source": [
    "print(balance)"
   ]
  },
  {
   "cell_type": "code",
   "execution_count": null,
   "id": "23ac2f99-b800-4526-829d-273bc7a2a975",
   "metadata": {},
   "outputs": [],
   "source": []
  }
 ],
 "metadata": {
  "kernelspec": {
   "display_name": "Python 3 (ipykernel)",
   "language": "python",
   "name": "python3"
  },
  "language_info": {
   "codemirror_mode": {
    "name": "ipython",
    "version": 3
   },
   "file_extension": ".py",
   "mimetype": "text/x-python",
   "name": "python",
   "nbconvert_exporter": "python",
   "pygments_lexer": "ipython3",
   "version": "3.9.1"
  }
 },
 "nbformat": 4,
 "nbformat_minor": 5
}
