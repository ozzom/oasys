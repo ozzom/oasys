{
 "cells": [
  {
   "cell_type": "code",
   "execution_count": 17,
   "id": "90facb14-193a-4e90-9b12-2cf9cf913e0e",
   "metadata": {},
   "outputs": [
    {
     "name": "stdout",
     "output_type": "stream",
     "text": [
      "    *\n",
      "\n",
      "   ***\n",
      "\n",
      "  *****\n",
      "\n",
      " *******\n",
      "\n",
      "*********\n",
      "\n"
     ]
    }
   ],
   "source": [
    "n = 5\n",
    "for i in reversed(range(n)):\n",
    "    for j in range(n):\n",
    "        if i > j : \n",
    "            print(' ', end='')\n",
    "        else:\n",
    "            print('*', end='')\n",
    "    for j in range(n):\n",
    "        if j > i:\n",
    "            print('*', end='')\n",
    "    \n",
    "    print('\\n')           "
   ]
  },
  {
   "cell_type": "code",
   "execution_count": null,
   "id": "9a19c925-a0b6-4000-8d06-82c79e011658",
   "metadata": {},
   "outputs": [],
   "source": []
  }
 ],
 "metadata": {
  "kernelspec": {
   "display_name": "Python 3 (ipykernel)",
   "language": "python",
   "name": "python3"
  }
 },
 "nbformat": 4,
 "nbformat_minor": 5
}
