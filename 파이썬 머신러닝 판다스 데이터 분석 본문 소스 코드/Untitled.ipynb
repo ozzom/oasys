{
 "cells": [
  {
   "cell_type": "code",
   "execution_count": 2,
   "id": "faaf26d1-f6e2-431f-ad98-69565eaa09a7",
   "metadata": {},
   "outputs": [],
   "source": [
    "import pandas as pd"
   ]
  },
  {
   "cell_type": "code",
   "execution_count": 17,
   "id": "d30e88d9-32b4-42d1-b359-09c1414c4782",
   "metadata": {},
   "outputs": [],
   "source": [
    "tup_data1 = ('영인', '2010-05-01', '여', True)\n",
    "tup_data2 = ('철수', '2011-02-01', '남', True)\n",
    "list_column =['이름', '생년월일', '성별', '학생여부']\n",
    "sr1 = pd.Series(tup_data1)\n",
    "sr2 = pd.Series(tup_data2)"
   ]
  },
  {
   "cell_type": "code",
   "execution_count": 24,
   "id": "9e1edd25-4d6e-4551-85ee-d7ddeecfc781",
   "metadata": {},
   "outputs": [],
   "source": [
    "df = pd.DataFrame([sr1, sr2])"
   ]
  },
  {
   "cell_type": "code",
   "execution_count": 25,
   "id": "c8494fca-5fe8-40a0-b809-3ccb3b0d06f6",
   "metadata": {},
   "outputs": [
    {
     "data": {
      "text/html": [
       "<div>\n",
       "<style scoped>\n",
       "    .dataframe tbody tr th:only-of-type {\n",
       "        vertical-align: middle;\n",
       "    }\n",
       "\n",
       "    .dataframe tbody tr th {\n",
       "        vertical-align: top;\n",
       "    }\n",
       "\n",
       "    .dataframe thead th {\n",
       "        text-align: right;\n",
       "    }\n",
       "</style>\n",
       "<table border=\"1\" class=\"dataframe\">\n",
       "  <thead>\n",
       "    <tr style=\"text-align: right;\">\n",
       "      <th></th>\n",
       "      <th>0</th>\n",
       "      <th>1</th>\n",
       "      <th>2</th>\n",
       "      <th>3</th>\n",
       "    </tr>\n",
       "  </thead>\n",
       "  <tbody>\n",
       "    <tr>\n",
       "      <th>0</th>\n",
       "      <td>영인</td>\n",
       "      <td>2010-05-01</td>\n",
       "      <td>여</td>\n",
       "      <td>True</td>\n",
       "    </tr>\n",
       "    <tr>\n",
       "      <th>1</th>\n",
       "      <td>철수</td>\n",
       "      <td>2011-02-01</td>\n",
       "      <td>남</td>\n",
       "      <td>True</td>\n",
       "    </tr>\n",
       "  </tbody>\n",
       "</table>\n",
       "</div>"
      ],
      "text/plain": [
       "    0           1  2     3\n",
       "0  영인  2010-05-01  여  True\n",
       "1  철수  2011-02-01  남  True"
      ]
     },
     "execution_count": 25,
     "metadata": {},
     "output_type": "execute_result"
    }
   ],
   "source": [
    "df"
   ]
  },
  {
   "cell_type": "code",
   "execution_count": null,
   "id": "150d2d80-cfb1-48e9-b88f-e6369160c970",
   "metadata": {},
   "outputs": [],
   "source": []
  }
 ],
 "metadata": {
  "kernelspec": {
   "display_name": "Python 3 (ipykernel)",
   "language": "python",
   "name": "python3"
  },
  "language_info": {
   "codemirror_mode": {
    "name": "ipython",
    "version": 3
   },
   "file_extension": ".py",
   "mimetype": "text/x-python",
   "name": "python",
   "nbconvert_exporter": "python",
   "pygments_lexer": "ipython3",
   "version": "3.9.1"
  }
 },
 "nbformat": 4,
 "nbformat_minor": 5
}
