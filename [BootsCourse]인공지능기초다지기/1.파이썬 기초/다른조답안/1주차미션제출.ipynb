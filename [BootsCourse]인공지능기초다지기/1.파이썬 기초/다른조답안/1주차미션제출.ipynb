{
 "cells": [
  {
   "cell_type": "code",
   "execution_count": 1,
   "metadata": {
    "id": "nb7qv2ums0vq"
   },
   "outputs": [
    {
     "name": "stdout",
     "output_type": "stream",
     "text": [
      "[1, 5, 7, 15, 29]\n"
     ]
    }
   ],
   "source": [
    "# Q1 num_list 가 홀수인 데이터만 출력하도록 하는 함수를 작성해보세요.\n",
    "\n",
    "num_list = [1,5,7,15,16,22,28,29]\n",
    "\n",
    "def get_odd_num(num_list):\n",
    "  return list(filter(lambda x:x%2==1,num_list ))\n",
    "    \n",
    "print(get_odd_num(num_list))"
   ]
  },
  {
   "cell_type": "code",
   "execution_count": 7,
   "metadata": {},
   "outputs": [
    {
     "data": {
      "text/plain": [
       "[1, 5, 7, 15, 29]"
      ]
     },
     "execution_count": 7,
     "metadata": {},
     "output_type": "execute_result"
    }
   ],
   "source": [
    "num_list = [1,5,7,15,16,22,28,29]\n",
    "list(filter(lambda x:x%2==1,num_list ))\n"
   ]
  },
  {
   "cell_type": "code",
   "execution_count": 9,
   "metadata": {},
   "outputs": [],
   "source": [
    "f = lambda x : x%2 == 1"
   ]
  },
  {
   "cell_type": "code",
   "execution_count": 10,
   "metadata": {},
   "outputs": [
    {
     "ename": "TypeError",
     "evalue": "unsupported operand type(s) for %: 'list' and 'int'",
     "output_type": "error",
     "traceback": [
      "\u001b[0;31m---------------------------------------------------------------------------\u001b[0m",
      "\u001b[0;31mTypeError\u001b[0m                                 Traceback (most recent call last)",
      "Cell \u001b[0;32mIn [10], line 1\u001b[0m\n\u001b[0;32m----> 1\u001b[0m \u001b[43mf\u001b[49m\u001b[43m(\u001b[49m\u001b[43mnum_list\u001b[49m\u001b[43m)\u001b[49m\n",
      "Cell \u001b[0;32mIn [9], line 1\u001b[0m, in \u001b[0;36m<lambda>\u001b[0;34m(x)\u001b[0m\n\u001b[0;32m----> 1\u001b[0m f\u001b[38;5;241m=\u001b[39m (\u001b[38;5;28;01mlambda\u001b[39;00m x : \u001b[43mx\u001b[49m\u001b[38;5;241;43m%\u001b[39;49m\u001b[38;5;241;43m2\u001b[39;49m \u001b[38;5;241m==\u001b[39m \u001b[38;5;241m1\u001b[39m)\n",
      "\u001b[0;31mTypeError\u001b[0m: unsupported operand type(s) for %: 'list' and 'int'"
     ]
    }
   ],
   "source": [
    "f"
   ]
  },
  {
   "cell_type": "code",
   "execution_count": null,
   "metadata": {
    "id": "Pi5gb703tZdI"
   },
   "outputs": [],
   "source": [
    "# Q2 string 문장을 받아 단어를 역순으로 출력하는 함수를 작성하세요.\n",
    "\n",
    "sentence = \"way a is there will a is there Where\"\n",
    "\n",
    "def reverse_sentence(sentence):\n",
    "  word = sentence.split(\" \")\n",
    "  reverse = [item for item in word[::-1]]\n",
    "  return \" \".join(reverse)\n",
    "\n",
    "print(reverse_sentence(sentence))"
   ]
  },
  {
   "cell_type": "code",
   "execution_count": null,
   "metadata": {
    "id": "TVTbA9lbx10x"
   },
   "outputs": [],
   "source": [
    "# Q3 리스트와 반복문을 사용해 데이터를 불러오세요. 이를 이용해 각 학생별 평균을 구해보세요\n",
    "\n",
    "score = [(100,100), (95,90), (55,60), (75,80), (70,70)]\n",
    "\n",
    "def get_avg(score):\n",
    "  avg = [sum(x)/2 for x in score]\n",
    "  for i in range(len(avg)):\n",
    "    print(f\"{i+1} 번, 평균: {avg[i]}\")\n",
    "\n",
    "get_avg(score)\n"
   ]
  },
  {
   "cell_type": "code",
   "execution_count": null,
   "metadata": {
    "id": "BpzsoDoL4HdA"
   },
   "outputs": [],
   "source": [
    "score = [(100,100), (95,90), (55,60), (75,80), (70,70)]\n",
    "\n",
    "def get_avg(score):\n",
    "  for i in range(len(score)):\n",
    "    print(f\"{i+1} 번, 평균: {sum(score[i])/2}\")\n",
    "\n",
    "get_avg(score)"
   ]
  },
  {
   "cell_type": "code",
   "execution_count": null,
   "metadata": {
    "id": "NnM5yTmwyoHu"
   },
   "outputs": [],
   "source": [
    "# Q4 중복되는 물품은 합쳐서 표시하세요, 각 딕셔너리 데이터의 데이터의 키값을 이용해 중복을 확인해보세요.\n",
    "\n",
    "dict_first = {\"사과\":30, \"배\":15, \"감\":10, \"포도\":10}\n",
    "dict_second = {\"사과\":5,  \"감\":25, \"배\":15, \"귤\":25}\n",
    "\n",
    "def merge_dict(dict_first, dict_second):\n",
    "\n",
    "  d1 = list(dict_second.keys())\n",
    "  for i in range (len(dict_second)):\n",
    "    if d1[i] in dict_first:\n",
    "      dict_first[d1[i]]+= dict_second[d1[i]]\n",
    "    else:\n",
    "      dict_first[d1[i]] = dict_second[d1[i]]\n",
    "\n",
    "  return dict_first\n",
    "  \n",
    "merge_dict(dict_first, dict_second)"
   ]
  },
  {
   "cell_type": "code",
   "execution_count": null,
   "metadata": {
    "id": "MgYchYZ-9i63"
   },
   "outputs": [],
   "source": [
    "# Q5 string 연산을 이용해서 문자열을 자르는 연산을 사용해보세요.\n",
    "\n",
    "def find_string(inputs):\n",
    "  a,b,c = inputs[:3], inputs[5:8], inputs[10:-1]\n",
    "  return([a,b,c])\n",
    "\n",
    "\n",
    "inputs = \"cat32dog16cow5\"\n",
    "string_list = find_string(inputs)\n",
    "print(string_list)\n",
    "\n"
   ]
  }
 ],
 "metadata": {
  "colab": {
   "private_outputs": true,
   "provenance": []
  },
  "kernelspec": {
   "display_name": "Python 3 (ipykernel)",
   "language": "python",
   "name": "python3"
  },
  "language_info": {
   "codemirror_mode": {
    "name": "ipython",
    "version": 3
   },
   "file_extension": ".py",
   "mimetype": "text/x-python",
   "name": "python",
   "nbconvert_exporter": "python",
   "pygments_lexer": "ipython3",
   "version": "3.9.1"
  }
 },
 "nbformat": 4,
 "nbformat_minor": 4
}
