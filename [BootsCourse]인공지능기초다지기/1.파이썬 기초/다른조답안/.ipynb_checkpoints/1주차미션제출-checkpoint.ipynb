{
  "nbformat": 4,
  "nbformat_minor": 0,
  "metadata": {
    "colab": {
      "private_outputs": true,
      "provenance": []
    },
    "kernelspec": {
      "name": "python3",
      "display_name": "Python 3"
    },
    "language_info": {
      "name": "python"
    }
  },
  "cells": [
    {
      "cell_type": "code",
      "execution_count": null,
      "metadata": {
        "id": "nb7qv2ums0vq"
      },
      "outputs": [],
      "source": [
        "# Q1 num_list 가 홀수인 데이터만 출력하도록 하는 함수를 작성해보세요.\n",
        "\n",
        "num_list = [1,5,7,15,16,22,28,29]\n",
        "\n",
        "def get_odd_num(num_list):\n",
        "  return list(filter(lambda x:x%2==1,num_list ))\n",
        "    \n",
        "print(get_odd_num(num_list))"
      ]
    },
    {
      "cell_type": "code",
      "source": [
        "# Q2 string 문장을 받아 단어를 역순으로 출력하는 함수를 작성하세요.\n",
        "\n",
        "sentence = \"way a is there will a is there Where\"\n",
        "\n",
        "def reverse_sentence(sentence):\n",
        "  word = sentence.split(\" \")\n",
        "  reverse = [item for item in word[::-1]]\n",
        "  return \" \".join(reverse)\n",
        "\n",
        "print(reverse_sentence(sentence))"
      ],
      "metadata": {
        "id": "Pi5gb703tZdI"
      },
      "execution_count": null,
      "outputs": []
    },
    {
      "cell_type": "code",
      "source": [
        "# Q3 리스트와 반복문을 사용해 데이터를 불러오세요. 이를 이용해 각 학생별 평균을 구해보세요\n",
        "\n",
        "score = [(100,100), (95,90), (55,60), (75,80), (70,70)]\n",
        "\n",
        "def get_avg(score):\n",
        "  avg = [sum(x)/2 for x in score]\n",
        "  for i in range(len(avg)):\n",
        "    print(f\"{i+1} 번, 평균: {avg[i]}\")\n",
        "\n",
        "get_avg(score)\n"
      ],
      "metadata": {
        "id": "TVTbA9lbx10x"
      },
      "execution_count": null,
      "outputs": []
    },
    {
      "cell_type": "code",
      "source": [
        "score = [(100,100), (95,90), (55,60), (75,80), (70,70)]\n",
        "\n",
        "def get_avg(score):\n",
        "  for i in range(len(score)):\n",
        "    print(f\"{i+1} 번, 평균: {sum(score[i])/2}\")\n",
        "\n",
        "get_avg(score)"
      ],
      "metadata": {
        "id": "BpzsoDoL4HdA"
      },
      "execution_count": null,
      "outputs": []
    },
    {
      "cell_type": "code",
      "source": [
        "# Q4 중복되는 물품은 합쳐서 표시하세요, 각 딕셔너리 데이터의 데이터의 키값을 이용해 중복을 확인해보세요.\n",
        "\n",
        "dict_first = {\"사과\":30, \"배\":15, \"감\":10, \"포도\":10}\n",
        "dict_second = {\"사과\":5,  \"감\":25, \"배\":15, \"귤\":25}\n",
        "\n",
        "def merge_dict(dict_first, dict_second):\n",
        "\n",
        "  d1 = list(dict_second.keys())\n",
        "  for i in range (len(dict_second)):\n",
        "    if d1[i] in dict_first:\n",
        "      dict_first[d1[i]]+= dict_second[d1[i]]\n",
        "    else:\n",
        "      dict_first[d1[i]] = dict_second[d1[i]]\n",
        "\n",
        "  return dict_first\n",
        "  \n",
        "merge_dict(dict_first, dict_second)"
      ],
      "metadata": {
        "id": "NnM5yTmwyoHu"
      },
      "execution_count": null,
      "outputs": []
    },
    {
      "cell_type": "code",
      "source": [
        "# Q5 string 연산을 이용해서 문자열을 자르는 연산을 사용해보세요.\n",
        "\n",
        "def find_string(inputs):\n",
        "  a,b,c = inputs[:3], inputs[5:8], inputs[10:-1]\n",
        "  return([a,b,c])\n",
        "\n",
        "\n",
        "inputs = \"cat32dog16cow5\"\n",
        "string_list = find_string(inputs)\n",
        "print(string_list)\n",
        "\n"
      ],
      "metadata": {
        "id": "MgYchYZ-9i63"
      },
      "execution_count": null,
      "outputs": []
    }
  ]
}