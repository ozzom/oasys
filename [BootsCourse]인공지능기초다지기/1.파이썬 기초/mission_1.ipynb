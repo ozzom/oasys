{
 "cells": [
  {
   "cell_type": "markdown",
   "id": "957fbcdc-e7da-4165-98eb-2e4fcab086b7",
   "metadata": {},
   "source": [
    "1. 다양한 데이터를 수집해서 아래와 같은 num_list를 얻었습니다. 하지만 우리에게 필요한 데이터는 홀수 데이터입니다. 그렇다면 num_list가 홀수인 데이터만 출력하도록 하는 함수를 작성해보세요.\n",
    "\n",
    "- 다양한 데이터를 수집해서 아래와 같은 num_list를 얻었습니다.\n",
    "- 하지만 우리에게 필요한 데이터는 홀수 데이터입니다.\n",
    "\n",
    "- 그렇다면 num_list가 홀수인 데이터만 출력하도록 하는 함수를 작성해보세요."
   ]
  },
  {
   "cell_type": "code",
   "execution_count": 331,
   "id": "a0e91b31-4825-46d4-80ea-06f07bed2e81",
   "metadata": {},
   "outputs": [
    {
     "name": "stdout",
     "output_type": "stream",
     "text": [
      "[1, 5, 7, 15, 29]\n"
     ]
    }
   ],
   "source": [
    "def get_odd_number(num_list):\n",
    "    return [x for i in num_list if x%2 == 0]\n",
    "\n",
    "num_list = [1, 5, 7, 15, 16, 22, 28, 29]\n",
    "print(fn_check_odd(num_list))"
   ]
  },
  {
   "cell_type": "markdown",
   "id": "d5181575-0570-4872-b05f-8648fc610f96",
   "metadata": {},
   "source": [
    "2. 데이터 처리를 위해서 문자열을 입력받았습니다. 그런데, 문자열을 받았더니 단어 단위로 거꾸로 입력되었습니다. 이를 다시 원래대로 출력하는 함수를 작성해보세요.\n",
    "\n",
    "- string 문장을 받아 단어를 역순으로 출력하는 함수를 작성하세요.\n",
    "- string 연산을 이용해보세요."
   ]
  },
  {
   "cell_type": "code",
   "execution_count": 332,
   "id": "0f42061b-7a9e-4878-bd81-29a3950638b1",
   "metadata": {},
   "outputs": [
    {
     "name": "stdout",
     "output_type": "stream",
     "text": [
      "Where there is a will there is a way\n"
     ]
    }
   ],
   "source": [
    "sentence = \"way a is there will a is there Where\"\n",
    "\n",
    "def fn_reverse_sentence(sentence):\n",
    "    return ' '.join(sentence.strip().split(' ')[::-1])\n",
    "\n",
    "print(fn_reverse_sentence(sentence))"
   ]
  },
  {
   "cell_type": "markdown",
   "id": "f01d5b74-bae7-4f94-a606-94cca06d3149",
   "metadata": {},
   "source": [
    "3. 이번 학기의 중간고사, 기말고사 점수가 발표되었습니다. 각 학생들의 점수가 튜플 형태로 저장되어 있고, 이를 포함한 리스트가 있습니다. 이를 이용해 각 학생들의 평균 점수를 출력하는 함수를 제작하세요.\n",
    "리스트와 반복문을 사용해 데이터를 불러오세요.\n",
    "이를 이용해 각 학생별 평균을 구해보세요."
   ]
  },
  {
   "cell_type": "code",
   "execution_count": 30,
   "id": "83053cc8-f74f-40bc-9a4d-54cff4bf02b0",
   "metadata": {},
   "outputs": [
    {
     "name": "stdout",
     "output_type": "stream",
     "text": [
      "1번, 평균 : 100.0\n",
      "2번, 평균 : 92.5\n",
      "3번, 평균 : 57.5\n",
      "4번, 평균 : 77.5\n",
      "5번, 평균 : 70.0\n"
     ]
    }
   ],
   "source": [
    "def get_avg(score): \n",
    "    for idx, data in enumerate(score):\n",
    "        print(\"{}번, 평균 : {}\".format(idx+1,sum(data)/len(data)))\n",
    "        \n",
    "score = [(100, 100), (95, 90), (55, 60), (75, 80), (70, 70)]        \n",
    "get_avg(score)"
   ]
  },
  {
   "cell_type": "markdown",
   "id": "77725d5e-b67d-49ff-8657-f6cde7021ff6",
   "metadata": {},
   "source": [
    "4. 두 개의 납품처에서 각각 과일과 야채들이 납품되었습니다. 이를 각각 물품의 갯수를 나타내는 2개의 딕셔너리로 정리했습니다. 물품을 정리하기 위해서 2개의 딕셔너리 개체를 합쳐 출력하는 함수를 제작하세요.\n",
    "중복되는 물품은 합쳐셔 표시하세요\n",
    "각 딕셔너리 데이터의 데이터의 키값을 이용해 중복을 확인해보세요"
   ]
  },
  {
   "cell_type": "code",
   "execution_count": 46,
   "id": "06585ef5-66e0-459f-bc51-5eee2a482bec",
   "metadata": {},
   "outputs": [
    {
     "name": "stdout",
     "output_type": "stream",
     "text": [
      "{'감': 25, '귤': 25, '배': 40, '사과': 35, '포도': 10}\n"
     ]
    }
   ],
   "source": [
    "def merge_dict(dict_first, dict_second):\n",
    "    dict_ret = {} \n",
    "    for key, value in sorted(dict(dict_first, **dict_second).items()):\n",
    "        if (key in dict_first.keys()) and (key in dict_second.keys()):\n",
    "            dict_ret[key] = value + dict_first[key]\n",
    "        else:\n",
    "            dict_ret[key] = value\n",
    "    \n",
    "    print(dict_ret)\n",
    "\n",
    "\n",
    "dict_first  = {'사과':30, '배':15, '감':10, '포도':10}\n",
    "dict_second = {'사과':5, '배':25, '감':15, '귤': 25}\n",
    "    \n",
    "merge_dict(dict_first,dict_second)    "
   ]
  },
  {
   "cell_type": "markdown",
   "id": "559ff965-e25b-4371-916e-e2ff7fb7984c",
   "metadata": {},
   "source": [
    "5.단어들을 입력받았는데, 자꾸만 숫자들이 섞여들어가는 문제가 있습니다. 이를 처리하기 위해서 함수에 string을 전달 받은 뒤, string 안에서의 숫자를 제거한 후 string만 남은 리스트를 출력하세요.\n",
    "string 연산을 이용해서 문자열을 자르는 연산을 사용해보세요."
   ]
  },
  {
   "cell_type": "code",
   "execution_count": 44,
   "id": "5d7015c5-1976-410f-bf74-6ea6e9c436f9",
   "metadata": {},
   "outputs": [
    {
     "name": "stdout",
     "output_type": "stream",
     "text": [
      "['cat', 'dog', 'cow']\n",
      "['cat', 'dog', 'cow']\n"
     ]
    }
   ],
   "source": [
    "def find_string(inputs):\n",
    "    ret = ''.join([' ' if ch.isnumeric() else ch for ch in inputs]).split(' ') \n",
    "    return [col for col in ret if col !='']\n",
    "\n",
    "##### loop로 단어들만 더해서 체크 \n",
    "def find_string2(inputs):\n",
    "    res_list = []\n",
    "    blank = \"\"\n",
    "    for get_char in inputs:\n",
    "        if not get_char.isdigit():\n",
    "            blank = blank + get_char\n",
    "        else:\n",
    "            if blank != \"\":\n",
    "                res_list.append(blank)\n",
    "                blank = \"\"\n",
    "                \n",
    "    return res_list                 \n",
    "            \n",
    "inputs = 'cat32dog16cow5'\n",
    "string_list = find_string2(inputs) \n",
    "print(string_list) \n",
    "\n",
    "string_list = find_string(inputs) \n",
    "print(string_list) "
   ]
  },
  {
   "cell_type": "code",
   "execution_count": 15,
   "id": "2b67e3e6-9120-4df3-b04f-16adf301ebbd",
   "metadata": {},
   "outputs": [],
   "source": [
    "inputs = 'cat32dog16cow5'\n",
    "\n",
    "ret = ''.join([' ' if ch.isnumeric() else ch for ch in inputs]).split(' ')\n"
   ]
  },
  {
   "cell_type": "code",
   "execution_count": 39,
   "id": "877abb69-2661-495e-8554-3fe5f4de72e0",
   "metadata": {},
   "outputs": [
    {
     "data": {
      "text/plain": [
       "['cat', 'dog', '', 'cow', '']"
      ]
     },
     "execution_count": 39,
     "metadata": {},
     "output_type": "execute_result"
    }
   ],
   "source": []
  },
  {
   "cell_type": "code",
   "execution_count": 34,
   "id": "dbadedc4-66a7-4708-b3e7-a48f2a64dc9a",
   "metadata": {},
   "outputs": [
    {
     "ename": "AttributeError",
     "evalue": "'NoneType' object has no attribute 'remove'",
     "output_type": "error",
     "traceback": [
      "\u001b[0;31m---------------------------------------------------------------------------\u001b[0m",
      "\u001b[0;31mAttributeError\u001b[0m                            Traceback (most recent call last)",
      "Cell \u001b[0;32mIn [34], line 1\u001b[0m\n\u001b[0;32m----> 1\u001b[0m \u001b[43mret\u001b[49m\u001b[38;5;241;43m.\u001b[39;49m\u001b[43mremove\u001b[49m(\u001b[38;5;124m'\u001b[39m\u001b[38;5;124m'\u001b[39m)\n",
      "\u001b[0;31mAttributeError\u001b[0m: 'NoneType' object has no attribute 'remove'"
     ]
    }
   ],
   "source": [
    "ret.remove('')"
   ]
  },
  {
   "cell_type": "code",
   "execution_count": 25,
   "id": "3e7aae97-2fdf-4077-8dd1-27aef38cf271",
   "metadata": {},
   "outputs": [
    {
     "data": {
      "text/plain": [
       "['cat', 'dog', 'cow']"
      ]
     },
     "execution_count": 25,
     "metadata": {},
     "output_type": "execute_result"
    }
   ],
   "source": [
    "ret"
   ]
  },
  {
   "cell_type": "code",
   "execution_count": 22,
   "id": "af0775b4-931d-4b8a-a3d6-ff6203a47aa7",
   "metadata": {},
   "outputs": [],
   "source": [
    "x = ['cat', '', 'dog', '', 'cow', '']\n",
    "x.remove('')"
   ]
  },
  {
   "cell_type": "code",
   "execution_count": 23,
   "id": "474c3272-9158-4315-95bb-d7deaafd7bc2",
   "metadata": {},
   "outputs": [
    {
     "data": {
      "text/plain": [
       "['cat', 'dog', '', 'cow', '']"
      ]
     },
     "execution_count": 23,
     "metadata": {},
     "output_type": "execute_result"
    }
   ],
   "source": [
    "for col in x"
   ]
  },
  {
   "cell_type": "code",
   "execution_count": null,
   "id": "fb48a8fc-57d5-4751-a095-17967b5cc7ea",
   "metadata": {},
   "outputs": [],
   "source": []
  }
 ],
 "metadata": {
  "kernelspec": {
   "display_name": "Python 3 (ipykernel)",
   "language": "python",
   "name": "python3"
  },
  "language_info": {
   "codemirror_mode": {
    "name": "ipython",
    "version": 3
   },
   "file_extension": ".py",
   "mimetype": "text/x-python",
   "name": "python",
   "nbconvert_exporter": "python",
   "pygments_lexer": "ipython3",
   "version": "3.9.1"
  }
 },
 "nbformat": 4,
 "nbformat_minor": 5
}
