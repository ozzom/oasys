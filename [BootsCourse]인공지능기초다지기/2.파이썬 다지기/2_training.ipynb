{
 "cells": [
  {
   "cell_type": "markdown",
   "id": "10293839-f707-4251-8eba-a78dacbabce5",
   "metadata": {},
   "source": [
    "#### Class 선언, 속성, 함수 설정"
   ]
  },
  {
   "cell_type": "code",
   "execution_count": 47,
   "id": "821a43b8-e04e-43c8-bd71-6d298832d735",
   "metadata": {},
   "outputs": [
    {
     "name": "stdout",
     "output_type": "stream",
     "text": [
      "1 TWMOON MF 10\n",
      "선수의 번호를 변경합니다 : from 10 to 20\n",
      "2 20\n"
     ]
    }
   ],
   "source": [
    "class SoccerPlayer():\n",
    "    def __init__(self, name, position, back_number):\n",
    "        self.name = name\n",
    "        self.position = position\n",
    "        self.back_number = back_number\n",
    "    \n",
    "    def change_back_number(self, new_number):\n",
    "        print(\"선수의 번호를 변경합니다 : from {} to {}\".format(self.back_number, new_number))\n",
    "        self.back_number = new_number  \n",
    "        \n",
    "player1 = SoccerPlayer('TWMOON', 'MF', '10')    \n",
    "print('1', player1.name, player1.position, player1.back_number)\n",
    "player1.change_back_number('20')\n",
    "print('2', player1.back_number)"
   ]
  },
  {
   "cell_type": "markdown",
   "id": "c2624ac4-265a-4ad6-b9c3-c3cf25e240ea",
   "metadata": {},
   "source": [
    "### 퍼스트클래스 함수 (First-class fuction)란? \n",
    "#### 함수 자체를 인자 (argument) 로써 다른 함수에 전달하거나 다른 함수의 결과값으로 리턴 할수도 있고, 함수를 변수에 할당하거나 데이터 구조안에 저장할 수 있는 함수"
   ]
  },
  {
   "cell_type": "markdown",
   "id": "756b5524-fb91-4e57-a5f2-c116cf0de62c",
   "metadata": {},
   "source": [
    "#### First-class objects : 함수를 변수로 사용"
   ]
  },
  {
   "cell_type": "code",
   "execution_count": null,
   "id": "a5d65b93-3c61-4949-9cc4-a6fdd2c80c5d",
   "metadata": {},
   "outputs": [],
   "source": [
    "def squar(x):\n",
    "    return x*x\n",
    "\n",
    "def cube(x):\n",
    "    return x*x*x \n",
    "\n",
    "f = squar\n",
    "f(5)"
   ]
  },
  {
   "cell_type": "markdown",
   "id": "caf985af-fc4b-44aa-8262-0affdd35bfc0",
   "metadata": {},
   "source": [
    "#### First-class objects : 함수를 파라메터로 사용"
   ]
  },
  {
   "cell_type": "code",
   "execution_count": 49,
   "id": "e0ded9c3-2de0-4821-b957-daa0c917b7b3",
   "metadata": {},
   "outputs": [
    {
     "data": {
      "text/plain": [
       "[4, 9, 16]"
      ]
     },
     "execution_count": 49,
     "metadata": {},
     "output_type": "execute_result"
    }
   ],
   "source": [
    "def squar(x):\n",
    "    return x*x\n",
    "\n",
    "def cube(x):\n",
    "    return x*x*x \n",
    "\n",
    "def formula(method, argment_list):\n",
    "    return [method(value) for value in argment_list]\n",
    "\n",
    "f = formula\n",
    "f(squar, [2, 3, 4])"
   ]
  },
  {
   "cell_type": "markdown",
   "id": "719cf80b-11f7-41e6-8c0f-bde59d2bf6bd",
   "metadata": {},
   "source": [
    "#### Inner function :  함수 내에 또 다른 함수 존재"
   ]
  },
  {
   "cell_type": "code",
   "execution_count": 56,
   "id": "8c798d62-ac84-4163-b18d-6071528876e4",
   "metadata": {},
   "outputs": [
    {
     "name": "stdout",
     "output_type": "stream",
     "text": [
      "Hellow, Python\n"
     ]
    }
   ],
   "source": [
    "def print_msg(msg):\n",
    "    def printer():\n",
    "        print(msg)\n",
    "    printer()  \n",
    "\n",
    "print_msg('Hellow, Python')    "
   ]
  },
  {
   "cell_type": "markdown",
   "id": "eee026b7-623c-4e90-8d17-d22bdc04508d",
   "metadata": {},
   "source": [
    "#### Inner function \n",
    "#### closures : inner function을 return값으로 반환"
   ]
  },
  {
   "cell_type": "code",
   "execution_count": 63,
   "id": "769122bf-976c-4f3e-8d83-91ac1a961b1c",
   "metadata": {},
   "outputs": [
    {
     "name": "stdout",
     "output_type": "stream",
     "text": [
      "Hellow, Python\n"
     ]
    }
   ],
   "source": [
    "def print_msg(msg):\n",
    "    def printer():\n",
    "        print(msg)\n",
    "    return printer   # Function을 반환 \n",
    "\n",
    "message = print_msg('Hellow, Python')    \n",
    "message()  # Function으로 호출해야 함. "
   ]
  },
  {
   "cell_type": "markdown",
   "id": "dbba9698-c275-4085-ae8e-50147088a4ac",
   "metadata": {},
   "source": [
    "#### decorator function : 복잡한 클로져 함수를 간단하게!"
   ]
  },
  {
   "cell_type": "code",
   "execution_count": 69,
   "id": "b60d20fe-d7c5-404e-9f78-00248a751899",
   "metadata": {},
   "outputs": [
    {
     "name": "stdout",
     "output_type": "stream",
     "text": [
      "Hello\n"
     ]
    }
   ],
   "source": [
    "def star(func):\n",
    "    def inner(*args, **kwargs):\n",
    "        print(\"*\" *30)\n",
    "        func(*args, **kwargs)\n",
    "        print(\"*\" *30)\n",
    "    return inner\n",
    "\n",
    "@star\n",
    "def printer(msg):\n",
    "    print(msg)\n",
    "    \n",
    "print(\"Hello\")"
   ]
  },
  {
   "cell_type": "code",
   "execution_count": null,
   "id": "c318fc34-712d-41c4-8efa-b233bc0cc32b",
   "metadata": {},
   "outputs": [],
   "source": []
  }
 ],
 "metadata": {
  "kernelspec": {
   "display_name": "Python 3",
   "language": "python",
   "name": "python3"
  },
  "language_info": {
   "codemirror_mode": {
    "name": "ipython",
    "version": 3
   },
   "file_extension": ".py",
   "mimetype": "text/x-python",
   "name": "python",
   "nbconvert_exporter": "python",
   "pygments_lexer": "ipython3",
   "version": "3.10.6 (main, Nov 14 2022, 16:10:14) [GCC 11.3.0]"
  },
  "vscode": {
   "interpreter": {
    "hash": "916dbcbb3f70747c44a77c7bcd40155683ae19c65e1c03b4aa3499c5328201f1"
   }
  }
 },
 "nbformat": 4,
 "nbformat_minor": 5
}
