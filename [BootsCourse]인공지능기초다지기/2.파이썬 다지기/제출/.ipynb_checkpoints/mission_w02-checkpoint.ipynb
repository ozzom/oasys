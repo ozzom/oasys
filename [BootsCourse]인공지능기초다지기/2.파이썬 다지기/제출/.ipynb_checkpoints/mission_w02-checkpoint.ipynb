{
 "cells": [
  {
   "cell_type": "markdown",
   "id": "004bc3cd-0cb1-412f-8bd2-b95d525681b2",
   "metadata": {},
   "source": [
    "Q1. 중간고사 기말고사 점수를 따로 받아 저장하는 클래스를 구현해보세요. 단, 생성자의 인스턴스는 private으로 선언되어야하며, \n",
    "데코레이터를 이용해 데이터를 저장하고, 함수를 이용해 평균값을 출력해보세요.\n",
    "\n",
    "- 자료형의 선언과 데코레이터를 이용해보세요"
   ]
  },
  {
   "cell_type": "code",
   "execution_count": 14,
   "id": "ff2b9e6b-4883-4884-9047-ceec77dc6ba1",
   "metadata": {},
   "outputs": [
    {
     "name": "stdout",
     "output_type": "stream",
     "text": [
      "62.5\n"
     ]
    }
   ],
   "source": [
    "# test score , mid : 50, final : 75\n",
    "class Score():\n",
    "    def __init__(self, mid, final):\n",
    "        self.__mid = mid\n",
    "        self.__final = final\n",
    "\n",
    "    @property\n",
    "    def mid(self):\n",
    "        return self.__mid \n",
    "    \n",
    "    @mid.setter\n",
    "    def mid(self, mid):\n",
    "        self.__mid = mid \n",
    "    \n",
    "    @property\n",
    "    def final(self):\n",
    "        return self.__final\n",
    "\n",
    "    @final.setter \n",
    "    def final(self, final):\n",
    "        self.__final = final \n",
    "    \n",
    "# 출력함수 \n",
    "score = Score(50, 75)\n",
    "print((score.mid + score.final) / 2) "
   ]
  },
  {
   "cell_type": "markdown",
   "id": "ad0dc359-d2de-4f13-9d21-664958483c4a",
   "metadata": {},
   "source": [
    "Q2. 다양한 탈 것을 사용하는 게임을 만드는 중입니다. 빠른 구현을 위해서 이미 구현한 Car 클래스를 이용해서 Bike라는 클래스를 새로 제작하려고 합니다. Car 클래스를 상속받아서 새로운 Bike 클래스를 아래와 같이 출력되도록 구성해보세요.\n",
    "\n",
    "- Bike class는 size 인자를 추가로 가집니다."
   ]
  },
  {
   "cell_type": "code",
   "execution_count": 13,
   "id": "2c910a72-1ded-41cf-8290-adef4abc4754",
   "metadata": {},
   "outputs": [
    {
     "name": "stdout",
     "output_type": "stream",
     "text": [
      "gas 2 small\n"
     ]
    }
   ],
   "source": [
    "class Car():\n",
    "    def __init__(self, fuel, wheels):\n",
    "        self.fuel = fuel\n",
    "        self.wheels = wheels\n",
    "    \n",
    "class Bike(Car):\n",
    "    def __init__(self, fuel, wheels, size):\n",
    "        Car.__init__(self, fuel, wheels)\n",
    "        self.size = size\n",
    "        \n",
    "# 출력 : \n",
    "bike = Bike('gas', 2, 'small')\n",
    "print(bike.fuel, bike.wheels, bike.size)"
   ]
  },
  {
   "cell_type": "markdown",
   "id": "cc37dcec-04b2-4547-a6da-d95898cb1190",
   "metadata": {},
   "source": [
    "Q3. 이번 시험 결과에 대한 데이터를 학과 사무실에서 CSV파일로 전달해줬습니다. 우리는 이 파일을 이용해서 데이터 처리를 진행해야 합니다. 파일 입출력을 이용해 파일 데이터를 리스트로 만들어보세요.\n",
    "\n",
    "- 파일 입출력에 사용하는 open 함수를 이용해 CSV 파일 내부의 데이터를 읽어보세요"
   ]
  },
  {
   "cell_type": "code",
   "execution_count": 5,
   "id": "299f0f2c-071b-44d0-b896-6eda3aa0cd73",
   "metadata": {},
   "outputs": [
    {
     "data": {
      "text/plain": [
       "[['73', '80', '75', '152'],\n",
       " ['93', '88', '93', '185'],\n",
       " ['89', '91', '90', '180'],\n",
       " ['96', '98', '100', '196'],\n",
       " ['73', '66', '70', '142'],\n",
       " ['53', '46', '55', '101'],\n",
       " ['69', '74', '77', '149'],\n",
       " ['47', '56', '60', '115'],\n",
       " ['87', '79', '90', '175'],\n",
       " ['79', '70', '88', '164'],\n",
       " ['69', '70', '73', '141'],\n",
       " ['70', '65', '74', '141'],\n",
       " ['93', '95', '91', '184'],\n",
       " ['79', '80', '73', '152'],\n",
       " ['70', '73', '78', '148'],\n",
       " ['93', '89', '96', '192'],\n",
       " ['78', '75', '68', '147'],\n",
       " ['81', '90', '93', '183'],\n",
       " ['88', '92', '86', '177'],\n",
       " ['78', '83', '77', '159'],\n",
       " ['82', '86', '90', '177'],\n",
       " ['86', '82', '89', '175'],\n",
       " ['78', '83', '85', '175'],\n",
       " ['76', '83', '71', '149'],\n",
       " ['96', '93', '95', '192']]"
      ]
     },
     "execution_count": 5,
     "metadata": {},
     "output_type": "execute_result"
    }
   ],
   "source": [
    "import csv \n",
    "\n",
    "def read_file(file_path) :\n",
    "    with open(file_path, 'r', encoding='utf-8') as file:\n",
    "        return [row for row in csv.reader(file, delimiter=',')]\n",
    "\n",
    "file_path = r'./data-01-test-score.csv'\n",
    "read_file(file_path)"
   ]
  },
  {
   "cell_type": "markdown",
   "id": "030daaf2-bd19-4648-87e4-5815cd37d11e",
   "metadata": {},
   "source": [
    "Q4. 우리는 방금 CSV 파일을 읽는 함수를 구현해보았습니다. 하지만 이를 조금 더 효율적으로 사용하기 위해서 클래스로 구성을 진행하려고 합니다. 방금 구현한 함수를 포함한 클래스를 구현해보세요.\n",
    "\n",
    "- merge list를 이용해 리스트 내 데이터의 합을 출력해보세요.\n",
    "- 데이터를 합치기 전 데이터의 자료형을 변경해보세요."
   ]
  },
  {
   "cell_type": "code",
   "execution_count": 6,
   "id": "563b50c6-3761-4663-aabc-046fbbddb43d",
   "metadata": {},
   "outputs": [
    {
     "data": {
      "text/plain": [
       "([['73', '80', '75', '152'],\n",
       "  ['93', '88', '93', '185'],\n",
       "  ['89', '91', '90', '180'],\n",
       "  ['96', '98', '100', '196'],\n",
       "  ['73', '66', '70', '142'],\n",
       "  ['53', '46', '55', '101'],\n",
       "  ['69', '74', '77', '149'],\n",
       "  ['47', '56', '60', '115'],\n",
       "  ['87', '79', '90', '175'],\n",
       "  ['79', '70', '88', '164'],\n",
       "  ['69', '70', '73', '141'],\n",
       "  ['70', '65', '74', '141'],\n",
       "  ['93', '95', '91', '184'],\n",
       "  ['79', '80', '73', '152'],\n",
       "  ['70', '73', '78', '148'],\n",
       "  ['93', '89', '96', '192'],\n",
       "  ['78', '75', '68', '147'],\n",
       "  ['81', '90', '93', '183'],\n",
       "  ['88', '92', '86', '177'],\n",
       "  ['78', '83', '77', '159'],\n",
       "  ['82', '86', '90', '177'],\n",
       "  ['86', '82', '89', '175'],\n",
       "  ['78', '83', '85', '175'],\n",
       "  ['76', '83', '71', '149'],\n",
       "  ['96', '93', '95', '192']],\n",
       " [380,\n",
       "  459,\n",
       "  450,\n",
       "  490,\n",
       "  351,\n",
       "  255,\n",
       "  369,\n",
       "  278,\n",
       "  431,\n",
       "  401,\n",
       "  353,\n",
       "  350,\n",
       "  463,\n",
       "  384,\n",
       "  369,\n",
       "  470,\n",
       "  368,\n",
       "  447,\n",
       "  443,\n",
       "  397,\n",
       "  435,\n",
       "  432,\n",
       "  421,\n",
       "  379,\n",
       "  476])"
      ]
     },
     "execution_count": 6,
     "metadata": {},
     "output_type": "execute_result"
    }
   ],
   "source": [
    "import csv \n",
    "\n",
    "class ReadCSV():\n",
    "    def __init__(self, file_path):\n",
    "        self.file_path = file_path\n",
    "        \n",
    "    def read_file(self):\n",
    "        with open(self.file_path, 'r', encoding='utf-8') as file:\n",
    "            return [row for row in csv.reader(file)]\n",
    "                  \n",
    "    def merge_list(self):\n",
    "        return [(sum([int(col) for col in data])) for data in self.read_file()]\n",
    "            \n",
    "\n",
    "file_path = './data-01-test-score.csv'\n",
    "\n",
    "read_cvs = ReadCSV(file_path)         \n",
    "read_cvs.read_file(), read_cvs.merge_list()"
   ]
  },
  {
   "cell_type": "markdown",
   "id": "1e24bd1b-d949-4704-ac11-40fcb3911678",
   "metadata": {},
   "source": [
    "Q5. 이전에 구현한 클래스에서 merge_list의 함수 동작을 변경해야합니다. 단순합계가 아닌 평균을 구하는 함수로 변경해보세요.\n",
    "\n",
    " - 리스트의 데이터를 다루는 함수를 이용해서 구현해보세요.\n",
    "\n",
    "- 최종 평균을 구한 후 오름차순으로 정렬해주세요."
   ]
  },
  {
   "cell_type": "code",
   "execution_count": 7,
   "id": "68a354c5-495f-4fc1-9c5e-375a9c5aa18f",
   "metadata": {},
   "outputs": [
    {
     "data": {
      "text/plain": [
       "[63.75,\n",
       " 69.5,\n",
       " 87.5,\n",
       " 87.75,\n",
       " 88.25,\n",
       " 92.0,\n",
       " 92.25,\n",
       " 92.25,\n",
       " 94.75,\n",
       " 95.0,\n",
       " 96.0,\n",
       " 99.25,\n",
       " 100.25,\n",
       " 105.25,\n",
       " 107.75,\n",
       " 108.0,\n",
       " 108.75,\n",
       " 110.75,\n",
       " 111.75,\n",
       " 112.5,\n",
       " 114.75,\n",
       " 115.75,\n",
       " 117.5,\n",
       " 119.0,\n",
       " 122.5]"
      ]
     },
     "execution_count": 7,
     "metadata": {},
     "output_type": "execute_result"
    }
   ],
   "source": [
    "import csv \n",
    "\n",
    "class ReadCSV():\n",
    "    def __init__(self, file_path):\n",
    "        self.file_path = file_path\n",
    "        \n",
    "    def read_file(self):\n",
    "        with open(self.file_path, 'r', encoding='utf-8') as file:\n",
    "            return [row for row in csv.reader(file)]\n",
    "                  \n",
    "    def merge_list(self):\n",
    "        for data in self.read_file():\n",
    "            ret = [(sum([int(col) for col in data])/len(data)) for data in self.read_file()]\n",
    "            ret.sort()\n",
    "            return ret \n",
    "\n",
    "file_path = r'./data-01-test-score.csv'\n",
    "\n",
    "read_cvs = ReadCSV(file_path)         \n",
    "read_cvs.merge_list()"
   ]
  },
  {
   "cell_type": "code",
   "execution_count": null,
   "id": "5e7e862c-449f-47bc-94bc-bdd3598efdea",
   "metadata": {},
   "outputs": [],
   "source": []
  },
  {
   "cell_type": "code",
   "execution_count": null,
   "id": "6e3e4dcf-caf8-4a3b-b1fd-856fbd9b261a",
   "metadata": {},
   "outputs": [],
   "source": []
  }
 ],
 "metadata": {
  "kernelspec": {
   "display_name": "Python 3 (ipykernel)",
   "language": "python",
   "name": "python3"
  },
  "language_info": {
   "codemirror_mode": {
    "name": "ipython",
    "version": 3
   },
   "file_extension": ".py",
   "mimetype": "text/x-python",
   "name": "python",
   "nbconvert_exporter": "python",
   "pygments_lexer": "ipython3",
   "version": "3.9.1"
  }
 },
 "nbformat": 4,
 "nbformat_minor": 5
}
