{
 "cells": [
  {
   "cell_type": "code",
   "execution_count": 2,
   "metadata": {},
   "outputs": [],
   "source": [
    "import numpy as np \n",
    "import matplotlib.pyplot as plt "
   ]
  },
  {
   "cell_type": "code",
   "execution_count": 3,
   "metadata": {},
   "outputs": [
    {
     "data": {
      "image/png": "[encoded data removed]",
      "text/plain": [
       "<Figure size 640x480 with 1 Axes>"
      ]
     },
     "metadata": {},
     "output_type": "display_data"
    }
   ],
   "source": [
    "np.random.seed(0)\n",
    "\n",
    "# y = 4x + 6 + Noise\n",
    "noise = np.random.randn(100,1)\n",
    "X = 2 * np.random.rand(100,1)\n",
    "y = 6 + 4*X + noise\n",
    "\n",
    "plt.scatter(X,y)\n",
    "plt.show()"
   ]
  },
  {
   "attachments": {},
   "cell_type": "markdown",
   "metadata": {},
   "source": [
    "####    배치 경사 하강법"
   ]
  },
  {
   "cell_type": "code",
   "execution_count": 13,
   "metadata": {},
   "outputs": [],
   "source": [
    "# 비용 함수\n",
    "def get_cost(y, y_hat):\n",
    "    n = len(y) \n",
    "    cost = np.sum( np.square(y - y_hat) ) / n\n",
    "    # cost = (np.sqrt(y - y_hat)).mean()\n",
    "    return cost\n",
    "\n",
    "# Batch Gradient Descent\n",
    "def batch_gradient_descent(b1, b0, X, y, learning_rate = 0.01, iters = 10000):\n",
    "    n = len(y)\n",
    "    \n",
    "    for i in range(iters):\n",
    "        final_iters = i + 1\n",
    "        # 예측값 nx1\n",
    "        y_hat = b0 + b1*X\n",
    "\n",
    "        # 비용 함수(RSS)\n",
    "        cost0 = np.sum( np.square(y - y_hat) ) / n\n",
    "        # cost0 = (np.sqrt(y - y_hat)).mean()\n",
    "        \n",
    "        # 학습률 * 편미분\n",
    "        b1_update = learning_rate * -(2/n) * X.T @ (y - y_hat)\n",
    "        b0_update = learning_rate * -(2/n) * np.sum(y - y_hat)\n",
    "\n",
    "        # 파라미터 업데이트\n",
    "        b1 = b1 - b1_update\n",
    "        b0 = b0 - b0_update\n",
    "        \n",
    "        # 업데이트 후 비용 함수(RSS)\n",
    "        y_hat = b0 + b1*X\n",
    "        cost1 = np.sum( np.square(y - y_hat) ) / n\n",
    "        \n",
    "        # 비용 감소가 0.00001보다 작은 경우 stop\n",
    "        if cost0 - cost1 < 0.00001:\n",
    "            break\n",
    "        \n",
    "    return b1, b0, final_iters"
   ]
  },
  {
   "cell_type": "code",
   "execution_count": 14,
   "metadata": {},
   "outputs": [
    {
     "name": "stdout",
     "output_type": "stream",
     "text": [
      "b1: 4.030, b0: 6.018, iteration: 989\n",
      "Gradient Descent Total Cost: 1.0170\n"
     ]
    }
   ],
   "source": [
    "b1, b0, final_iters = batch_gradient_descent(0, 0, X, y, learning_rate = 0.01, iters=1000)\n",
    "\n",
    "y_hat = b0 + b1[0,0]*X\n",
    "cost = get_cost(y, y_hat)\n",
    "\n",
    "print(f\"b1: {b1[0,0]:.3f}, b0: {b0:.3f}, iteration: {final_iters}\")\n",
    "print(f\"Gradient Descent Total Cost: {cost:.4f}\")"
   ]
  },
  {
   "cell_type": "code",
   "execution_count": null,
   "metadata": {},
   "outputs": [],
   "source": []
  }
 ],
 "metadata": {
  "kernelspec": {
   "display_name": "Python 3 (ipykernel)",
   "language": "python",
   "name": "python3"
  },
  "language_info": {
   "codemirror_mode": {
    "name": "ipython",
    "version": 3
   },
   "file_extension": ".py",
   "mimetype": "text/x-python",
   "name": "python",
   "nbconvert_exporter": "python",
   "pygments_lexer": "ipython3",
   "version": "3.9.1"
  },
  "orig_nbformat": 4
 },
 "nbformat": 4,
 "nbformat_minor": 2
}
